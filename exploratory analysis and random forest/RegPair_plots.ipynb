{
 "cells": [
  {
   "cell_type": "markdown",
   "metadata": {},
   "source": [
    "# Machine learning algorithms for coral bleaching classification "
   ]
  },
  {
   "cell_type": "markdown",
   "metadata": {},
   "source": [
    "## Load dataset"
   ]
  },
  {
   "source": [
    "'''\n",
    "    Import libraries\n",
    "'''\n",
    "from sklearn import datasets\n",
    "import pandas as pd\n",
    "import numpy as np\n",
    "from numpy import mean\n",
    "from numpy import std\n",
    "import sklearn\n",
    "import seaborn as sb\n",
    "import matplotlib.pyplot as plt\n",
    "from numpy import mean \n",
    "from numpy import std\n",
    "from scipy import stats\n",
    "import scipy.stats as scipystats\n",
    "import statsmodels.api as sm\n",
    "import statsmodels.formula.api as smf\n",
    "from scipy.stats.stats import linregress\n",
    "from scipy.stats.stats import pearsonr\n",
    "# check scikit-learn version\n",
    "print(sklearn.__version__)"
   ],
   "cell_type": "code",
   "metadata": {
    "tags": []
   },
   "execution_count": null,
   "outputs": []
  },
  {
   "cell_type": "code",
   "execution_count": null,
   "metadata": {},
   "outputs": [],
   "source": [
    "'''\n",
    "    Load full dataset\n",
    "'''\n",
    "data = pd.read_csv('df_sst_clouds.csv')\n",
    "len(data)  "
   ]
  },
  {
   "cell_type": "code",
   "execution_count": null,
   "metadata": {},
   "outputs": [],
   "source": [
    "'''\n",
    "    Subset DF by SEVERITY_CODE [0,1,2,3]\n",
    "'''\n",
    "#data = data.dropna() # drop rows that contains NaN's \n",
    "data = data[(data.SEVERITY_CODE == 0)|(data.SEVERITY_CODE == 1)|(data.SEVERITY_CODE == 2)|(data.SEVERITY_CODE == 3)] \n",
    "#data = data[(data.YEAR >= 2005)] # First year with more than 100 records\n",
    "#list(data.columns)\n",
    "data = data.dropna() # drop rows that contains NaN's\n",
    "len(data)"
   ]
  },
  {
   "cell_type": "code",
   "execution_count": null,
   "metadata": {},
   "outputs": [],
   "source": [
    "data.columns"
   ]
  },
  {
   "source": [
    "# Calculate a linear least-squares regression for two sets of measurements"
   ],
   "cell_type": "markdown",
   "metadata": {}
  },
  {
   "cell_type": "code",
   "execution_count": null,
   "metadata": {
    "tags": []
   },
   "outputs": [],
   "source": [
    "reglinSEVERITY_CODE_WD = linregress(data.SEVERITY_CODE, data.WD)\n",
    "print('SEVERITY_CODE vs WD:', reglinSEVERITY_CODE_WD)\n",
    "print('')\n",
    "reglinSEVERITY_CODE_DHW = linregress(data.SEVERITY_CODE, data.DHW)\n",
    "print('SEVERITY_CODE vs DHW:', reglinSEVERITY_CODE_DHW)\n",
    "print('')\n",
    "reglinSEVERITY_CODE_DHW_9 = linregress(data.SEVERITY_CODE, data.DHW_9)\n",
    "print('SEVERITY_CODE vs DHW_9:', reglinSEVERITY_CODE_DHW_9)\n"
   ]
  },
  {
   "cell_type": "code",
   "execution_count": null,
   "metadata": {},
   "outputs": [],
   "source": [
    "#To get coefficient of determination (R-squared) do rvalue**2:\n",
    "reglinSEVERITY_CODE_DHW.rvalue**2"
   ]
  },
  {
   "cell_type": "code",
   "execution_count": null,
   "metadata": {},
   "outputs": [],
   "source": [
    "reg = smf.ols(formula = \"DHW ~ SEVERITY_CODE\", data = data).fit()\n",
    "reg.summary()"
   ]
  },
  {
   "cell_type": "code",
   "execution_count": null,
   "metadata": {},
   "outputs": [],
   "source": [
    "from sklearn import linear_model\n",
    "X = data[['DHW_9','CF_a_runmean90']] \n",
    "y = data['SEVERITY_CODE']\n",
    "regr = linear_model.LinearRegression()\n",
    "regr.fit(X, y)\n",
    "print('Intercept: \\n', regr.intercept_)\n",
    "print('Coefficients: \\n', regr.coef_)\n",
    "# with statsmodels\n",
    "X = sm.add_constant(X) # adding a constant\n",
    " \n",
    "model = sm.OLS(y, X).fit()\n",
    "predictions = model.predict(X) \n",
    " \n",
    "print_model = model.summary()\n",
    "print(print_model)"
   ]
  },
  {
   "source": [
    "# Regplot"
   ],
   "cell_type": "markdown",
   "metadata": {}
  },
  {
   "cell_type": "code",
   "execution_count": null,
   "metadata": {},
   "outputs": [],
   "source": [
    "Cf_a_DHW = data[['CF_a_runmean90','DHW','SEVERITY_CODE']]\n",
    "scatter = sb.regplot(Cf_a_DHW.SEVERITY_CODE, Cf_a_DHW.DHW, marker='+',scatter_kws={'s':1}, line_kws={'lw':1, 'color':'darkred'}) \n",
    "#plt.savefig('regplotDHW_CF_a_90.pdf', dpi=300)"
   ]
  },
  {
   "source": [
    "# Pairplots"
   ],
   "cell_type": "markdown",
   "metadata": {}
  },
  {
   "cell_type": "code",
   "execution_count": null,
   "metadata": {},
   "outputs": [],
   "source": [
    " \n",
    "# Create individial series per variable and severity \n",
    "Cf_DHW = data[['CF_a_runmean90','DHW','SEVERITY_CODE']]\n",
    "pairgrid = sb.pairplot(Cf_DHW, hue='SEVERITY_CODE', palette=\"hls\", kind='reg', markers='.', corner=True, plot_kws={'scatter_kws':{'alpha': 0.5,'edgecolor': 'none'}},size = 10)\n",
    "plt.show()\n",
    "#plt.savefig('pairplotDHW_CF_a_90.pdf', dpi=300)"
   ]
  }
 ],
 "metadata": {
  "language_info": {
   "codemirror_mode": {
    "name": "ipython",
    "version": 3
   },
   "file_extension": ".py",
   "mimetype": "text/x-python",
   "name": "python",
   "nbconvert_exporter": "python",
   "pygments_lexer": "ipython3",
   "version": "3.7.4-final"
  },
  "orig_nbformat": 2,
  "kernelspec": {
   "name": "python3",
   "display_name": "Python 3"
  }
 },
 "nbformat": 4,
 "nbformat_minor": 2
}