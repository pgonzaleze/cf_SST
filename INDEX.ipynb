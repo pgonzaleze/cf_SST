{
 "cells": [
  {
   "cell_type": "markdown",
   "metadata": {},
   "source": [
    "# NOTEBOOK TO DEVELOP A CLOUD-INDEX FOR CORAL BLEACHING\n"
   ]
  },
  {
   "cell_type": "code",
   "execution_count": 1,
   "metadata": {},
   "outputs": [],
   "source": [
    "from datetime import datetime\n",
    "from netCDF4 import Dataset as ds\n",
    "import numpy as np\n",
    "import dateutil as du \n",
    "import parser\n",
    "import pytz\n",
    "import dateutil.parser \n",
    "import pandas as pd\n",
    "from pandas import DataFrame\n",
    "import csv\n",
    "import glob, os\n",
    "from os.path import expanduser\n",
    "from pathlib import Path\n",
    "import xarray as xr "
   ]
  },
  {
   "cell_type": "code",
   "execution_count": 2,
   "metadata": {},
   "outputs": [],
   "source": [
    "### Load .CSV and  \n",
    "df = pd.read_csv('Export_Output.csv',encoding='latin-1', low_memory=False)\n",
    "df = df[['pointid','lat','lon']]"
   ]
  },
  {
   "cell_type": "code",
   "execution_count": 3,
   "metadata": {},
   "outputs": [
    {
     "output_type": "execute_result",
     "data": {
      "text/plain": [
       "3670722"
      ]
     },
     "metadata": {},
     "execution_count": 3
    }
   ],
   "source": [
    "len(df)"
   ]
  },
  {
   "source": [
    "# EXTRACT THE CF FROM THE WARMEST MONTH OF THE YEAR ONLY IF DHW > 4"
   ],
   "cell_type": "markdown",
   "metadata": {}
  },
  {
   "cell_type": "code",
   "execution_count": 4,
   "metadata": {},
   "outputs": [],
   "source": [
    "# Function to slice the filename with .nc extention, this will be used to open the files in directory\n",
    "def file_info(ncfilename):\n",
    "    with ds(ncfilename,'r') as ncdat:\n",
    "        array = xr.open_dataset(ncfilename) # open_dataset works fine with either full path or filename.nc \n",
    "        return array  \n",
    "def array_selDHW(array):\n",
    "    dsloc = array.sel(lon=lon,lat=lat,method='nearest') \n",
    "    val_arr = dsloc['degree_heating_week']\n",
    "    return val_arr\n",
    "def array_selCF(array):\n",
    "    dsloc = array.sel(lon=lon,lat=lat,method='nearest') \n",
    "    val_arr = dsloc['cloud_fraction']\n",
    "    return val_arr"
   ]
  },
  {
   "cell_type": "code",
   "execution_count": null,
   "metadata": {},
   "outputs": [],
   "source": [
    "home = Path(expanduser(\"~\"))\n",
    "y = []\n",
    "for row in df.itertuples():\n",
    "    lat = row.lat\n",
    "    lon = row.lon\n",
    "    path = home / Path ('C:/Users/bmped/Sync/INDEX/dhw_patmos.nc') \n",
    "    array = file_info(path)\n",
    "    dhw = array_selDHW(array)\n",
    "    cf = array_selCF(array)\n",
    "    cf_occur = cf[np.where( dhw >= 4 )]\n",
    "    y.append(cf_occur) # list of arrays."
   ]
  },
  {
   "cell_type": "code",
   "execution_count": null,
   "metadata": {},
   "outputs": [],
   "source": [
    "def INDEX(list_of_arrrays):\n",
    "    values_ls = []\n",
    "    lat_ls = []\n",
    "    lon_ls = []\n",
    "    for element in list_of_arrrays:\n",
    "        if element.size == 0: \n",
    "           pass\n",
    "        else:\n",
    "            values = element.values.mean()\n",
    "            lat = element.coords['lat'].values\n",
    "            lon = element.coords['lon'].values\n",
    "            values_ls.append(values)\n",
    "            lat_ls.append(lat)\n",
    "            lon_ls.append(lon)\n",
    "    values_df = pd.DataFrame(values_ls,columns={'cf_a'})\n",
    "    values_lat = pd.DataFrame(lat_ls, columns={'lat'})\n",
    "    values_lon = pd.DataFrame(lon_ls, columns={'lon'})\n",
    "    df = pd.concat([values_df,values_lat,values_lon], axis=1)\n",
    "    mn = df['cf_a'].min()\n",
    "    mx = df['cf_a'].max()\n",
    "    diff = mx-mn\n",
    "    df['cf_a_std'] = df['cf_a'].apply(lambda x: (x-mn)/diff)\n",
    "    return df "
   ]
  },
  {
   "cell_type": "code",
   "execution_count": null,
   "metadata": {},
   "outputs": [],
   "source": [
    "idx = INDEX(y)"
   ]
  },
  {
   "cell_type": "code",
   "execution_count": null,
   "metadata": {},
   "outputs": [],
   "source": [
    "idx.to_csv('map_sample.csv')\n",
    "len(idx)"
   ]
  }
 ],
 "metadata": {
  "anaconda-cloud": {},
  "hide_input": false,
  "kernelspec": {
   "display_name": "Python 3",
   "language": "python",
   "name": "python3"
  },
  "language_info": {
   "codemirror_mode": {
    "name": "ipython",
    "version": 3
   },
   "file_extension": ".py",
   "mimetype": "text/x-python",
   "name": "python",
   "nbconvert_exporter": "python",
   "pygments_lexer": "ipython3",
   "version": "3.7.6-final"
  }
 },
 "nbformat": 4,
 "nbformat_minor": 2
}