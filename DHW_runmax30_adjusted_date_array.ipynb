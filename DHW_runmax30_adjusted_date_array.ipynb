{
 "cells": [
  {
   "cell_type": "code",
   "execution_count": 1,
   "metadata": {},
   "outputs": [],
   "source": [
    "from datetime import datetime\n",
    "from netCDF4 import Dataset as ds\n",
    "import numpy as np\n",
    "import dateutil as du \n",
    "import parser\n",
    "import pytz\n",
    "import dateutil.parser \n",
    "import pandas as pd\n",
    "from pandas import DataFrame\n",
    "import csv\n",
    "import glob, os\n",
    "from os.path import expanduser\n",
    "from pathlib import Path\n",
    "import xarray as xr "
   ]
  },
  {
   "cell_type": "code",
   "execution_count": 2,
   "metadata": {},
   "outputs": [],
   "source": [
    "df = pd.read_csv('df_adjusted_date.csv')"
   ]
  },
  {
   "cell_type": "code",
   "execution_count": 3,
   "metadata": {},
   "outputs": [],
   "source": [
    "# Change days to using adjusted date\n",
    "df['adjusted_date'] = df['adjusted_date'].apply(lambda x: datetime.strptime(x, \"%Y-%m-%d\"))\n",
    "df['DAY'] = df['adjusted_date'].dt.day\n",
    "df['MONTH'] = df['adjusted_date'].dt.month\n",
    "df['YEAR'] = df['adjusted_date'].dt.year"
   ]
  },
  {
   "cell_type": "code",
   "execution_count": 4,
   "metadata": {},
   "outputs": [],
   "source": [
    "# insert '0' and convert to string\n",
    "df['DAY'] = df['DAY'].apply(lambda x: int(float(x)))\n",
    "df['DAY'] = df['DAY'].apply('{0:0>2}'.format)\n",
    "df['MONTH'] = df['MONTH'].apply(lambda x: int(float(x)))\n",
    "df['MONTH'] = df['MONTH'].apply('{0:0>2}'.format)"
   ]
  },
  {
   "cell_type": "code",
   "execution_count": 5,
   "metadata": {},
   "outputs": [
    {
     "output_type": "execute_result",
     "data": {
      "text/plain": "   Unnamed: 0  ITEM_ID        COUNTRY      lat      lon  SEVERITY_CODE DAY  \\\n0         358      358  United States  28.1648 -94.2983              1  16   \n1         384      384  United States  28.1648 -94.2983              1  14   \n\n  MONTH  YEAR   full_date   rank_date   JD    MMM_date adjusted_date  \n0    08  1993  1993-10-11  16-10-1993  284  1993-08-16    1993-08-16  \n1    05  1994  1994-05-14   16-5-1994  134  1994-07-16    1994-05-14  ",
      "text/html": "<div>\n<style scoped>\n    .dataframe tbody tr th:only-of-type {\n        vertical-align: middle;\n    }\n\n    .dataframe tbody tr th {\n        vertical-align: top;\n    }\n\n    .dataframe thead th {\n        text-align: right;\n    }\n</style>\n<table border=\"1\" class=\"dataframe\">\n  <thead>\n    <tr style=\"text-align: right;\">\n      <th></th>\n      <th>Unnamed: 0</th>\n      <th>ITEM_ID</th>\n      <th>COUNTRY</th>\n      <th>lat</th>\n      <th>lon</th>\n      <th>SEVERITY_CODE</th>\n      <th>DAY</th>\n      <th>MONTH</th>\n      <th>YEAR</th>\n      <th>full_date</th>\n      <th>rank_date</th>\n      <th>JD</th>\n      <th>MMM_date</th>\n      <th>adjusted_date</th>\n    </tr>\n  </thead>\n  <tbody>\n    <tr>\n      <th>0</th>\n      <td>358</td>\n      <td>358</td>\n      <td>United States</td>\n      <td>28.1648</td>\n      <td>-94.2983</td>\n      <td>1</td>\n      <td>16</td>\n      <td>08</td>\n      <td>1993</td>\n      <td>1993-10-11</td>\n      <td>16-10-1993</td>\n      <td>284</td>\n      <td>1993-08-16</td>\n      <td>1993-08-16</td>\n    </tr>\n    <tr>\n      <th>1</th>\n      <td>384</td>\n      <td>384</td>\n      <td>United States</td>\n      <td>28.1648</td>\n      <td>-94.2983</td>\n      <td>1</td>\n      <td>14</td>\n      <td>05</td>\n      <td>1994</td>\n      <td>1994-05-14</td>\n      <td>16-5-1994</td>\n      <td>134</td>\n      <td>1994-07-16</td>\n      <td>1994-05-14</td>\n    </tr>\n  </tbody>\n</table>\n</div>"
     },
     "metadata": {},
     "execution_count": 5
    }
   ],
   "source": [
    "df.head(2)"
   ]
  },
  {
   "cell_type": "code",
   "execution_count": 6,
   "metadata": {},
   "outputs": [],
   "source": [
    "# Function to slice the filename with .nc extention, this will be used to open the files in directory\n",
    "def file_info(ncfilename):\n",
    "    with ds(ncfilename,'r') as ncdat:\n",
    "        #string = str(ncfilename)\n",
    "        #filename = string[-16:] \n",
    "        array = xr.open_dataset(ncfilename) # open_dataset works fine with either full path or filename.nc \n",
    "        return array  \n",
    "def array_sel(array):\n",
    "    dsloc = array.sel(lon=lon,lat=lat,time=time,method='nearest') \n",
    "    dhw = dsloc['degree_heating_week']\n",
    "    return dhw "
   ]
  },
  {
   "cell_type": "code",
   "execution_count": 7,
   "metadata": {},
   "outputs": [],
   "source": [
    "home = Path(expanduser(\"~\"))\n",
    "x = []\n",
    "for row in df.itertuples():\n",
    "        lat = row.lat\n",
    "        lon = row.lon\n",
    "        time = row.adjusted_date\n",
    "        path = home / Path(\"D:/PGonzalez/DHW/DHW_monmax/dhw_1985-2017_runmax30.nc\") \n",
    "        array = file_info(path)\n",
    "        dhw_val = array_sel(array)\n",
    "        x.append(dhw_val)\n",
    "dhw = [item.values for item in x]\n",
    "df['DHW'] = dhw\n",
    "df.to_csv('dhw_adjusteddaterunmax30.csv')"
   ]
  },
  {
   "cell_type": "code",
   "execution_count": null,
   "metadata": {},
   "outputs": [],
   "source": [
    "x[21002].values"
   ]
  },
  {
   "cell_type": "code",
   "execution_count": null,
   "metadata": {
    "tags": []
   },
   "outputs": [],
   "source": [
    "dhw =[]\n",
    "for item in x:\n",
    "    values = item.values\n",
    "    dhw.append(values)\n",
    "    #print(len(dhw))\n",
    "df['DHW'] = dhw"
   ]
  },
  {
   "cell_type": "code",
   "execution_count": null,
   "metadata": {},
   "outputs": [],
   "source": [
    "df.to_csv('dhw_adjusteddate.csv')"
   ]
  },
  {
   "cell_type": "code",
   "execution_count": null,
   "metadata": {},
   "outputs": [],
   "source": [
    "filename = 'dhw_1985-2017.nc'   \n",
    "array = xr.open_dataset(filename)  \n",
    "dsloc = array.sel(lon=-94.2983,lat=28.1648,time='1993-11-01',method='nearest') \n",
    "dhw = dsloc['degree_heating_week']"
   ]
  },
  {
   "cell_type": "code",
   "execution_count": null,
   "metadata": {},
   "outputs": [],
   "source": [
    "dhw"
   ]
  },
  {
   "cell_type": "code",
   "execution_count": null,
   "metadata": {},
   "outputs": [],
   "source": []
  }
 ],
 "metadata": {
  "language_info": {
   "name": "python",
   "codemirror_mode": {
    "name": "ipython",
    "version": 3
   },
   "version": "3.7.6-final"
  },
  "orig_nbformat": 2,
  "file_extension": ".py",
  "mimetype": "text/x-python",
  "name": "python",
  "npconvert_exporter": "python",
  "pygments_lexer": "ipython3",
  "version": 3,
  "kernelspec": {
   "name": "python3",
   "display_name": "Python 3"
  }
 },
 "nbformat": 4,
 "nbformat_minor": 2
}