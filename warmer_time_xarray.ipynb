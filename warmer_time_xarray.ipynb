{
 "cells": [
  {
   "cell_type": "code",
   "execution_count": 1,
   "metadata": {},
   "outputs": [],
   "source": [
    "from datetime import datetime\n",
    "from netCDF4 import Dataset as ds\n",
    "import numpy as np\n",
    "import dateutil as du \n",
    "import parser\n",
    "import pytz\n",
    "import dateutil.parser \n",
    "import pandas as pd\n",
    "from pandas import DataFrame\n",
    "import csv\n",
    "import glob, os\n",
    "from os.path import expanduser\n",
    "from pathlib import Path\n",
    "import xarray as xr "
   ]
  },
  {
   "cell_type": "code",
   "execution_count": 19,
   "metadata": {},
   "outputs": [],
   "source": [
    "### Load .CSV and \n",
    "### subset bleaching events (conditional, e.g. exclude NaN)\n",
    "### Filter only CodeID, site names and country\" \n",
    "df = pd.read_csv('CBdbV2.csv',encoding='latin-1', low_memory=False)\n",
    "df = df[['RECORD_ID','COUNTRY','LAT_corrected','LON_corrected','SEVERITY_CODE','DATE','MONTH','YEAR']]\n",
    "df = pd.DataFrame(df)\n",
    "#### Convert index into column\n",
    "#df.reset_index(level=0, inplace=True)\n",
    "df['ITEM_ID'] = df.index.astype(str).str.zfill(7)   # add '0s' at the beginning of the number and convert as string \n",
    "df.rename(columns={'DATE':'DAY'}, inplace = True) #use \"implace = True\" to rename the existing DataFrame\n",
    "df = df[pd.to_numeric(df['DAY'], errors='coerce').notnull()]  # Drop rows that do not have as.numeric DATE (DAY)\n",
    "df['DAY'] = df['DAY'].apply(lambda x: int(float(x)))\n",
    "df['DAY'] = df['DAY'].apply('{0:0>2}'.format)\n",
    "df['MONTH'] = df['MONTH'].apply(lambda x: int(float(x)))\n",
    "df['MONTH'] = df['MONTH'].apply('{0:0>2}'.format)\n",
    "df['DAY_RANK'] = df['MONTH'].apply(lambda x: 15 if x == '02' else 16)\n",
    "df['full_date'] = df.apply(lambda x: '%s-%s-%s' % (x['YEAR'], int(float(x['MONTH'])), x['DAY']), axis=1) # create a column in datetime format; %s - String (or any object with a string representation, like numbers), %d - Integers %f - Floating point numbers\n",
    "df['full_date'] = df['full_date'].apply(lambda x: datetime.strptime(x, \"%Y-%m-%d\")) # use datetime funtion to convert string 'full_date' to datetime  \n",
    "df['rank_date'] = df.apply(lambda x: '%s-%s-%s' % (x['YEAR'], int(float(x['MONTH'])), x['DAY_RANK']), axis=1) # create a column in datetime format; %s - String (or any object with a string representation, like numbers), %d - Integers %f - Floating point numbers\n",
    "df['rank_date'] = df['rank_date'].apply(lambda x: datetime.strptime(x, \"%Y-%m-%d\")) # use datetime funtion to convert string 'full_date' to datetime \n",
    "df['JD'] = df['full_date'].apply(lambda x: x.timetuple().tm_yday)\n",
    "### Re-order by column starting by 'ID' and renaming LAT and LON\n",
    "df = df.reindex(columns=['ITEM_ID','COUNTRY','LAT_corrected','LON_corrected','SEVERITY_CODE','DAY','MONTH','YEAR','full_date','rank_date','JD'])\n",
    "df.rename(columns={'LAT_corrected': 'lat', 'LON_corrected': 'lon'}, inplace=True) # use \"implace = True\" to rename the existing DataFrame (rather than creating a copy)\n",
    "df = df.dropna(axis=0, how='any')  # Drop row with NaN if any"
   ]
  },
  {
   "cell_type": "code",
   "execution_count": 20,
   "metadata": {},
   "outputs": [
    {
     "output_type": "execute_result",
     "data": {
      "text/plain": "       ITEM_ID        COUNTRY        lat         lon  SEVERITY_CODE DAY MONTH  \\\n358    0000358  United States  28.164800  -94.298300              1  11    10   \n384    0000384  United States  28.164800  -94.298300              1  14    05   \n390    0000390  United States  28.164800  -94.298300              0  25    09   \n477    0000477  United States  28.164800  -94.298300              1  14    05   \n495    0000495  United States  28.164800  -94.298300              1  08    10   \n...        ...            ...        ...         ...            ...  ..   ...   \n37768  0037768           Iran  26.661884   55.915603              0  20    12   \n37769  0037769        Jamaica  18.099944  -77.999472              0  20    12   \n37770  0037770      Australia -17.290650  146.478083              0  21    12   \n37771  0037771           Iran  26.826644   56.319456              0  21    12   \n37772  0037772           Iran  27.402600   52.599100              3  31    12   \n\n       YEAR  full_date  rank_date   JD  \n358    1993 1993-10-11 1993-10-16  284  \n384    1994 1994-05-14 1994-05-16  134  \n390    1994 1994-09-25 1994-09-16  268  \n477    1995 1995-05-14 1995-05-16  134  \n495    1995 1995-10-08 1995-10-16  281  \n...     ...        ...        ...  ...  \n37768  2017 2017-12-20 2017-12-16  354  \n37769  2017 2017-12-20 2017-12-16  354  \n37770  2017 2017-12-21 2017-12-16  355  \n37771  2017 2017-12-21 2017-12-16  355  \n37772  2017 2017-12-31 2017-12-16  365  \n\n[21003 rows x 11 columns]",
      "text/html": "<div>\n<style scoped>\n    .dataframe tbody tr th:only-of-type {\n        vertical-align: middle;\n    }\n\n    .dataframe tbody tr th {\n        vertical-align: top;\n    }\n\n    .dataframe thead th {\n        text-align: right;\n    }\n</style>\n<table border=\"1\" class=\"dataframe\">\n  <thead>\n    <tr style=\"text-align: right;\">\n      <th></th>\n      <th>ITEM_ID</th>\n      <th>COUNTRY</th>\n      <th>lat</th>\n      <th>lon</th>\n      <th>SEVERITY_CODE</th>\n      <th>DAY</th>\n      <th>MONTH</th>\n      <th>YEAR</th>\n      <th>full_date</th>\n      <th>rank_date</th>\n      <th>JD</th>\n    </tr>\n  </thead>\n  <tbody>\n    <tr>\n      <th>358</th>\n      <td>0000358</td>\n      <td>United States</td>\n      <td>28.164800</td>\n      <td>-94.298300</td>\n      <td>1</td>\n      <td>11</td>\n      <td>10</td>\n      <td>1993</td>\n      <td>1993-10-11</td>\n      <td>1993-10-16</td>\n      <td>284</td>\n    </tr>\n    <tr>\n      <th>384</th>\n      <td>0000384</td>\n      <td>United States</td>\n      <td>28.164800</td>\n      <td>-94.298300</td>\n      <td>1</td>\n      <td>14</td>\n      <td>05</td>\n      <td>1994</td>\n      <td>1994-05-14</td>\n      <td>1994-05-16</td>\n      <td>134</td>\n    </tr>\n    <tr>\n      <th>390</th>\n      <td>0000390</td>\n      <td>United States</td>\n      <td>28.164800</td>\n      <td>-94.298300</td>\n      <td>0</td>\n      <td>25</td>\n      <td>09</td>\n      <td>1994</td>\n      <td>1994-09-25</td>\n      <td>1994-09-16</td>\n      <td>268</td>\n    </tr>\n    <tr>\n      <th>477</th>\n      <td>0000477</td>\n      <td>United States</td>\n      <td>28.164800</td>\n      <td>-94.298300</td>\n      <td>1</td>\n      <td>14</td>\n      <td>05</td>\n      <td>1995</td>\n      <td>1995-05-14</td>\n      <td>1995-05-16</td>\n      <td>134</td>\n    </tr>\n    <tr>\n      <th>495</th>\n      <td>0000495</td>\n      <td>United States</td>\n      <td>28.164800</td>\n      <td>-94.298300</td>\n      <td>1</td>\n      <td>08</td>\n      <td>10</td>\n      <td>1995</td>\n      <td>1995-10-08</td>\n      <td>1995-10-16</td>\n      <td>281</td>\n    </tr>\n    <tr>\n      <th>...</th>\n      <td>...</td>\n      <td>...</td>\n      <td>...</td>\n      <td>...</td>\n      <td>...</td>\n      <td>...</td>\n      <td>...</td>\n      <td>...</td>\n      <td>...</td>\n      <td>...</td>\n      <td>...</td>\n    </tr>\n    <tr>\n      <th>37768</th>\n      <td>0037768</td>\n      <td>Iran</td>\n      <td>26.661884</td>\n      <td>55.915603</td>\n      <td>0</td>\n      <td>20</td>\n      <td>12</td>\n      <td>2017</td>\n      <td>2017-12-20</td>\n      <td>2017-12-16</td>\n      <td>354</td>\n    </tr>\n    <tr>\n      <th>37769</th>\n      <td>0037769</td>\n      <td>Jamaica</td>\n      <td>18.099944</td>\n      <td>-77.999472</td>\n      <td>0</td>\n      <td>20</td>\n      <td>12</td>\n      <td>2017</td>\n      <td>2017-12-20</td>\n      <td>2017-12-16</td>\n      <td>354</td>\n    </tr>\n    <tr>\n      <th>37770</th>\n      <td>0037770</td>\n      <td>Australia</td>\n      <td>-17.290650</td>\n      <td>146.478083</td>\n      <td>0</td>\n      <td>21</td>\n      <td>12</td>\n      <td>2017</td>\n      <td>2017-12-21</td>\n      <td>2017-12-16</td>\n      <td>355</td>\n    </tr>\n    <tr>\n      <th>37771</th>\n      <td>0037771</td>\n      <td>Iran</td>\n      <td>26.826644</td>\n      <td>56.319456</td>\n      <td>0</td>\n      <td>21</td>\n      <td>12</td>\n      <td>2017</td>\n      <td>2017-12-21</td>\n      <td>2017-12-16</td>\n      <td>355</td>\n    </tr>\n    <tr>\n      <th>37772</th>\n      <td>0037772</td>\n      <td>Iran</td>\n      <td>27.402600</td>\n      <td>52.599100</td>\n      <td>3</td>\n      <td>31</td>\n      <td>12</td>\n      <td>2017</td>\n      <td>2017-12-31</td>\n      <td>2017-12-16</td>\n      <td>365</td>\n    </tr>\n  </tbody>\n</table>\n<p>21003 rows × 11 columns</p>\n</div>"
     },
     "metadata": {},
     "execution_count": 20
    }
   ],
   "source": [
    "df"
   ]
  },
  {
   "cell_type": "code",
   "execution_count": 4,
   "metadata": {},
   "outputs": [],
   "source": [
    "# Function to slice the filename with .nc extention, this will be used to open the files in directory\n",
    "def file_info(ncfilename):\n",
    "    with ds(ncfilename,'r') as ncdat:\n",
    "        #string = str(ncfilename)\n",
    "        #filename = string[-16:] \n",
    "        array = xr.open_dataset(ncfilename) # open_dataset works fine with either full path or filename.nc \n",
    "        return array  \n",
    "def array_sel(array):\n",
    "    dsloc = array.sel(lon=lon,lat=lat,method='nearest') \n",
    "    val_arr = dsloc['analysed_sst']\n",
    "    return val_arr "
   ]
  },
  {
   "cell_type": "code",
   "execution_count": 5,
   "metadata": {},
   "outputs": [],
   "source": [
    "# Extract arrays per row and put them in a list\n",
    "home = Path(expanduser(\"~\"))\n",
    "x = []\n",
    "for row in df.itertuples():\n",
    "        lat = row.lat\n",
    "        lon = row.lon\n",
    "        time = row.rank_date\n",
    "        path = home / Path(\"D:/PGonzalez/SST_CRW/coraltemp_monmean/sst_monmean\" + str(row.YEAR) + \".nc\") \n",
    "        array = file_info(path)\n",
    "        cf = array_sel(array)\n",
    "        ranking = cf.rank('time')\n",
    "        rank_max = max(ranking)\n",
    "        rank_month = ranking.sel(time=time.strftime(\"%Y-%m-%d\")) # ranking from coldest to warmest\n",
    "        x.append(rank_max)"
   ]
  },
  {
   "cell_type": "code",
   "execution_count": 33,
   "metadata": {},
   "outputs": [],
   "source": [
    "coor = [item.coords['time'] for item in x]    # get array of values of coordinate 'time' for analysed sst"
   ]
  },
  {
   "cell_type": "code",
   "execution_count": 34,
   "metadata": {},
   "outputs": [],
   "source": [
    "# create lists of values (actual time) of coordinates  \n",
    "coor_list = []\n",
    "for item in coor: \n",
    "    cor_val = item.values\n",
    "    coor_list.append(cor_val)"
   ]
  },
  {
   "cell_type": "code",
   "execution_count": 35,
   "metadata": {},
   "outputs": [
    {
     "output_type": "execute_result",
     "data": {
      "text/plain": "         Date_MMM\n0      1993-08-16\n1      1994-07-16\n2      1994-07-16\n3      1995-08-16\n4      1995-08-16\n...           ...\n20998  2017-07-16\n20999  2017-09-16\n21000  2017-02-15\n21001  2017-07-16\n21002  2017-08-16\n\n[21003 rows x 1 columns]",
      "text/html": "<div>\n<style scoped>\n    .dataframe tbody tr th:only-of-type {\n        vertical-align: middle;\n    }\n\n    .dataframe tbody tr th {\n        vertical-align: top;\n    }\n\n    .dataframe thead th {\n        text-align: right;\n    }\n</style>\n<table border=\"1\" class=\"dataframe\">\n  <thead>\n    <tr style=\"text-align: right;\">\n      <th></th>\n      <th>Date_MMM</th>\n    </tr>\n  </thead>\n  <tbody>\n    <tr>\n      <th>0</th>\n      <td>1993-08-16</td>\n    </tr>\n    <tr>\n      <th>1</th>\n      <td>1994-07-16</td>\n    </tr>\n    <tr>\n      <th>2</th>\n      <td>1994-07-16</td>\n    </tr>\n    <tr>\n      <th>3</th>\n      <td>1995-08-16</td>\n    </tr>\n    <tr>\n      <th>4</th>\n      <td>1995-08-16</td>\n    </tr>\n    <tr>\n      <th>...</th>\n      <td>...</td>\n    </tr>\n    <tr>\n      <th>20998</th>\n      <td>2017-07-16</td>\n    </tr>\n    <tr>\n      <th>20999</th>\n      <td>2017-09-16</td>\n    </tr>\n    <tr>\n      <th>21000</th>\n      <td>2017-02-15</td>\n    </tr>\n    <tr>\n      <th>21001</th>\n      <td>2017-07-16</td>\n    </tr>\n    <tr>\n      <th>21002</th>\n      <td>2017-08-16</td>\n    </tr>\n  </tbody>\n</table>\n<p>21003 rows × 1 columns</p>\n</div>"
     },
     "metadata": {},
     "execution_count": 35
    }
   ],
   "source": [
    "df_coor = pd.DataFrame(coor_list, columns=['Date_MMM'])\n",
    "df_coor['Date_MMM'] = pd.to_datetime(df_coor.Date_MMM)\n",
    "df_coor['Date_MMM'] = df_coor['Date_MMM'].dt.strftime('%Y-%m-%d')\n",
    "df_coor"
   ]
  },
  {
   "cell_type": "code",
   "execution_count": 12,
   "metadata": {},
   "outputs": [],
   "source": [
    "#df_coor.to_csv('df_dateofMMM.csv', index=False)"
   ]
  },
  {
   "cell_type": "code",
   "execution_count": 45,
   "metadata": {},
   "outputs": [],
   "source": [
    "list_coor = df_coor['Date_MMM'].values.tolist()"
   ]
  },
  {
   "cell_type": "code",
   "execution_count": 46,
   "metadata": {},
   "outputs": [],
   "source": [
    "df['date_MMM'] = list_coor\n",
    "df"
   ]
  },
  {
   "cell_type": "code",
   "execution_count": 48,
   "metadata": {},
   "outputs": [],
   "source": [
    "#"
   ]
  },
  {
   "cell_type": "code",
   "execution_count": null,
   "metadata": {},
   "outputs": [],
   "source": [
    "# # Create a list of arrays\n",
    "# z = []\n",
    "# rmonth = []\n",
    "# rmax = []\n",
    "# for item in x: \n",
    "#     value = item.sel()\n",
    "#     val = max(value)\n",
    "#     rank = value.rank('time')\n",
    "#     rank_max = max(rank)\n",
    "#     rank_month = rank.sel(time=time.strftime(\"%Y-%m-%d\"))\n",
    "#     z.append(val)\n",
    "#     rmonth.append(rank_month)\n",
    "#     rmax.append(rank_max)   "
   ]
  },
  {
   "cell_type": "code",
   "execution_count": null,
   "metadata": {},
   "outputs": [],
   "source": [
    "# # create a list for sst values # create lists for coordinates (time) \n",
    "# sst = [item[0].values for item in z]   # get array of values; analysed sst in this case\n",
    "# rm = [item[0].values for item in rmonth]  # get the rank of the month according to the warmest month of the climatology\n",
    "# rmx = [item[0].values for item in rmax] # get the warmest month of the climatology \n",
    "\n",
    "# coor = [item[0].coords['time'] for item in z]    # get array of values of coordinate 'time' for analysed sst"
   ]
  },
  {
   "cell_type": "code",
   "execution_count": null,
   "metadata": {},
   "outputs": [],
   "source": [
    "# # create lists of values (actual time) of coordinates  \n",
    "# coor_list = []\n",
    "# rm_list = []\n",
    "# rmx_list = []\n",
    "# for item in coor: \n",
    "#     cor_val = item.values\n",
    "#     coor_list.append(cor_val)\n",
    "# for item in rm: \n",
    "#     rm_val = item.values\n",
    "#     rm_list.append(rm_val)\n",
    "# for item in rmx: \n",
    "#     rmx_val = item.values\n",
    "#     rmx_list.append(rmx_val)    "
   ]
  },
  {
   "cell_type": "code",
   "execution_count": null,
   "metadata": {},
   "outputs": [],
   "source": [
    "# df_sst = pd.DataFrame(sst, columns = ['MMMmax_SST']) \n",
    "# df_coor = pd.DataFrame(coor_list, columns=['Date'])\n",
    "# df_rm = pd.DataFrame(rm, columns=['rank_month_date'])\n",
    "# df_rmx = pd.DataFrame(rmx, columns=['warmest_month'])\n",
    "# df_rank = pd.concat([df_sst, df_coor, df_rm, df_rmx ], axis=1)\n",
    "# #df.to_csv('df_MMMmax_date.csv', index=False)"
   ]
  },
  {
   "cell_type": "code",
   "execution_count": null,
   "metadata": {},
   "outputs": [],
   "source": [
    "# rank_value = [item[0].values for item in x] \n",
    "# df_rank = pd.DataFrame(rank_value, columns = ['rank_cold_to_warm'])\n",
    "# df_rank"
   ]
  },
  {
   "cell_type": "code",
   "execution_count": null,
   "metadata": {},
   "outputs": [],
   "source": [
    "# def asc(item):\n",
    "#     'This function reverse the ranking to warmest = 1 to coldest = 12'\n",
    "#     if item == str(1.0):\n",
    "#         return '12'\n",
    "#     elif item == str(2.0):\n",
    "#         return '11'  \n",
    "#     elif item == str(3.0):\n",
    "#         return '10'\n",
    "#     elif item == str(4.0):\n",
    "#         return '9'  \n",
    "#     elif item == str(5.0):\n",
    "#         return '8'  \n",
    "#     elif item == str(6.0):\n",
    "#         return '7'  \n",
    "#     elif item == str(7.0):\n",
    "#         return '6'  \n",
    "#     elif item == str(8.0):\n",
    "#         return '5'  \n",
    "#     elif item == str(9.0):\n",
    "#         return '4'  \n",
    "#     elif item == str(10.0):\n",
    "#         return '3'  \n",
    "#     elif item == str(11.0):\n",
    "#         return '2'  \n",
    "#     elif item == str(12.0):\n",
    "#         return '1'  "
   ]
  },
  {
   "cell_type": "code",
   "execution_count": null,
   "metadata": {},
   "outputs": [],
   "source": [
    "# warm = []\n",
    "# for row in df_rank.itertuples():\n",
    "#     rank = row.rank_cold_to_warm\n",
    "#     s = asc(str(rank))\n",
    "#     warm.append(s)\n",
    "# df_warm = pd.DataFrame(warm, columns=['rank_warm_to_cold'])\n",
    "# df_warm_rank = pd.concat([df_rank, df_warm], axis=1)\n",
    "# df_warm_rank"
   ]
  }
 ],
 "metadata": {
  "language_info": {
   "name": "python",
   "codemirror_mode": {
    "name": "ipython",
    "version": 3
   },
   "version": "3.7.6-final"
  },
  "orig_nbformat": 2,
  "file_extension": ".py",
  "mimetype": "text/x-python",
  "name": "python",
  "npconvert_exporter": "python",
  "pygments_lexer": "ipython3",
  "version": 3,
  "kernelspec": {
   "name": "python3",
   "display_name": "Python 3"
  }
 },
 "nbformat": 4,
 "nbformat_minor": 2
}