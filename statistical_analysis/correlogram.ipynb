{
 "cells": [
  {
   "cell_type": "markdown",
   "metadata": {},
   "source": [
    "# Exploratory analysis for machine learning algorithm -Random forest- for coral bleaching classification "
   ]
  },
  {
   "cell_type": "markdown",
   "metadata": {},
   "source": [
    "## Load dataset"
   ]
  },
  {
   "cell_type": "code",
   "execution_count": null,
   "metadata": {
    "tags": []
   },
   "outputs": [],
   "source": [
    "'''\n",
    "    Import libraries\n",
    "'''\n",
    "from sklearn import datasets\n",
    "import pandas as pd\n",
    "import numpy as np\n",
    "import sklearn\n",
    "import seaborn as sb\n",
    "import matplotlib.pyplot as plt\n",
    "from numpy import mean \n",
    "from numpy import std\n",
    "import pingouin as pg\n",
    "from scipy.stats import shapiro\n",
    "from scipy.stats import levene \n",
    "from scipy.stats import bartlett\n",
    "from scipy.stats import kruskal\n",
    "from scipy.stats import mannwhitneyu\n",
    "import scikit_posthocs as sp \n",
    "from scipy import stats\n",
    "from sklearn.datasets import make_classification\n",
    "from sklearn.model_selection import cross_val_score\n",
    "from sklearn.model_selection import RepeatedKFold\n",
    "from sklearn.ensemble import RandomForestClassifier\n",
    "# check scikit-learn version\n",
    "print(sklearn.__version__)"
   ]
  },
  {
   "cell_type": "code",
   "execution_count": null,
   "metadata": {},
   "outputs": [],
   "source": [
    "'''\n",
    "    Load full dataset\n",
    "'''\n",
    "data = pd.read_csv('df_sst_clouds.csv')\n",
    "#data.head(5)  "
   ]
  },
  {
   "cell_type": "code",
   "execution_count": null,
   "metadata": {},
   "outputs": [],
   "source": [
    "'''\n",
    "    Subset DF by SEVERITY_CODE [0,1,2,3]\n",
    "'''\n",
    "#data = data.dropna() # drop rows that contains NaN's \n",
    "data = data[(data.SEVERITY_CODE == 0)|(data.SEVERITY_CODE == 1)|(data.SEVERITY_CODE == 2)|(data.SEVERITY_CODE == 3)] \n",
    "#data = data[(data.YEAR >= 2005)] # First year with more than 100 records\n",
    "#list(data.columns)\n",
    "data = data.dropna()\n",
    "len(data)"
   ]
  },
  {
   "cell_type": "code",
   "execution_count": null,
   "metadata": {},
   "outputs": [],
   "source": [
    "'''\n",
    "    ADD colums grouped by SEVERITY CODE combinations\n",
    "        Here the lenght of the DF is kept\n",
    "'''\n",
    "data['SEVERITY_CODE2'] = np.where(data['SEVERITY_CODE']==0, \"0\",\"123\") \n",
    "data['SEVERITY_CODE3'] = np.where(data['SEVERITY_CODE']<=1,\"01\",\"23\")\n",
    "data['SEVERITY_CODE5'] = np.where(data['SEVERITY_CODE']<=2,\"012\",\"3\")"
   ]
  },
  {
   "cell_type": "code",
   "execution_count": null,
   "metadata": {},
   "outputs": [],
   "source": [
    "# # data = data[data.duplicated(['lat','lon','full_date',\n",
    "# # 'CF','SST','JD','SEASON','DHW','DAMMM'])]\n",
    "#data = data.drop_duplicates(['lat','lon','JD','full_date','CF','SST','DHW','WD','CD'])\n",
    "#data = data.drop(data[(data.DHW == 0) & (data.DHWrunmean7 == 0) & (data.DHWrunmean30 == 0) &(data.DHWrunmean90 == 0) & (data.SEVERITY_CODE > 0)].index) # restricting to cells with an actual DHW value only\n",
    "len(data)"
   ]
  },
  {
   "cell_type": "code",
   "execution_count": null,
   "metadata": {},
   "outputs": [],
   "source": [
    "'''\n",
    "    Define dataset(s) for correllogram DAY of REPORT \"dor\"\n",
    "'''\n",
    "data_dor = data.loc[:, ~data.columns.str.contains('adj')] # select only day of freport\n",
    "data_dor = data_dor.loc[:, ~data_dor.columns.str.contains('_a')] # drop \"CF_a...\" variables\n",
    "X = data_dor.drop(['DHW_class','SEVERITY_CODE','SEVERITY_CODE2','SEVERITY_CODE3', 'COUNTRY', 'DAY', 'MONTH','YEAR','JD','lat','lon','full_date','ITEM_ID','SST_std7','SST_std30','SST_std90'], axis=1) # dependent variables\n",
    "y = data_dor['SEVERITY_CODE'] # labels (indipendent variable)"
   ]
  },
  {
   "cell_type": "code",
   "execution_count": null,
   "metadata": {},
   "outputs": [],
   "source": [
    "'''\n",
    "    Define dataset(s) for correllogram DAY of REPORT \"anomalies\"\n",
    "'''\n",
    "data_dor = data.loc[:, ~data.columns.str.contains('adj')] # select only day of freport\n",
    "#data_dor = data_dor.loc[:, ~data_dor.columns.str.contains('_a')] # drop \"CF_a...\" variables\n",
    "X = data_dor.drop(['DHW_class','SEVERITY_CODE2','SEVERITY_CODE3', 'COUNTRY', 'DAY', 'MONTH','YEAR','JD','lat','lon','full_date','ITEM_ID','SST_std7','SST_std30'], axis=1) # dependent variables\n",
    "y = data_dor['SEVERITY_CODE'] # labels (indipendent variable)"
   ]
  },
  {
   "cell_type": "code",
   "execution_count": null,
   "metadata": {},
   "outputs": [],
   "source": [
    "'''\n",
    "    Correlation plot for date of report\n",
    "'''\n",
    "pearsoncorr = X.corr(method='pearson')\n",
    "#spaermancorr\n",
    "plt.figure(figsize=(20,15))\n",
    "sb.heatmap(pearsoncorr, \n",
    "            vmin=-1, vmax=1, center=0,\n",
    "            xticklabels=pearsoncorr.columns,\n",
    "            yticklabels=pearsoncorr.columns,\n",
    "            cmap='coolwarm',\n",
    "            #annot=True,\n",
    "            linewidth=0.5,\n",
    "            fmt='.2g')\n",
    "plt.savefig('corr_plot.pdf', dpi=300)\n",
    "#plt.show()"
   ]
  },
  {
   "cell_type": "code",
   "execution_count": null,
   "metadata": {},
   "outputs": [],
   "source": [
    "'''\n",
    "Pearson significance\n",
    "'''\n",
    "from scipy.stats.stats import pearsonr\n",
    "pval = X.rcorr(stars=False)\n",
    "#pval.to_csv('corr_pval_features.csv')\n",
    "pval"
   ]
  },
  {
   "cell_type": "code",
   "execution_count": null,
   "metadata": {},
   "outputs": [],
   "source": [
    "'''\n",
    "Histogram (all together)\n",
    "''' \n",
    "X.hist(figsize=(20,17))\n",
    "plt.show()\n",
    "#plt.savefig('General_histograms.pdf', dpi=300)"
   ]
  },
  {
   "cell_type": "code",
   "execution_count": null,
   "metadata": {},
   "outputs": [],
   "source": [
    "'''\n",
    "Normality test\n",
    "'''\n",
    "normality = pg.normality(X, method='normaltest')\n",
    "#normality.to_csv('normality_test_features.csv')\n",
    "normality"
   ]
  }
 ],
 "metadata": {
  "language_info": {
   "codemirror_mode": {
    "name": "ipython",
    "version": 3
   },
   "file_extension": ".py",
   "mimetype": "text/x-python",
   "name": "python",
   "nbconvert_exporter": "python",
   "pygments_lexer": "ipython3",
   "version": "3.7.4-final"
  },
  "orig_nbformat": 2,
  "kernelspec": {
   "name": "python3",
   "display_name": "Python 3"
  }
 },
 "nbformat": 4,
 "nbformat_minor": 2
}