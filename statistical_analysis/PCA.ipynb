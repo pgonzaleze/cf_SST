{
 "cells": [
  {
   "cell_type": "markdown",
   "metadata": {},
   "source": [
    "# Machine learning algorithms for coral bleaching classification "
   ]
  },
  {
   "cell_type": "markdown",
   "metadata": {},
   "source": [
    "## Load dataset"
   ]
  },
  {
   "cell_type": "code",
   "execution_count": null,
   "metadata": {
    "tags": []
   },
   "outputs": [],
   "source": [
    "'''\n",
    "    Import libraries\n",
    "'''\n",
    "from sklearn import datasets\n",
    "import pandas as pd\n",
    "import numpy as np\n",
    "from numpy import mean\n",
    "from numpy import std\n",
    "import sklearn\n",
    "import seaborn as sb\n",
    "import matplotlib.pyplot as plt\n",
    "from numpy import mean \n",
    "from numpy import std\n",
    "from scipy import stats\n",
    "from sklearn.decomposition import PCA\n",
    "from sklearn.preprocessing import StandardScaler\n",
    "from scipy.stats.stats import linregress\n",
    "from scipy.stats.stats import pearsonr\n",
    "# check scikit-learn version\n",
    "print(sklearn.__version__)"
   ]
  },
  {
   "cell_type": "code",
   "execution_count": null,
   "metadata": {},
   "outputs": [],
   "source": [
    "'''\n",
    "    Load full dataset\n",
    "'''\n",
    "data = pd.read_csv('df_sst_clouds.csv')\n",
    "len(data)  "
   ]
  },
  {
   "cell_type": "code",
   "execution_count": null,
   "metadata": {},
   "outputs": [],
   "source": [
    "'''\n",
    "    Subset DF by SEVERITY_CODE [0,1,2,3]\n",
    "'''\n",
    "#data = data.dropna() # drop rows that contains NaN's \n",
    "data = data[(data.SEVERITY_CODE == 0)|(data.SEVERITY_CODE == 1)|(data.SEVERITY_CODE == 2)|(data.SEVERITY_CODE == 3)] \n",
    "data = data[(data.YEAR >= 2005)] # First year with more than 100 records\n",
    "#list(data.columns)\n",
    "data = data.dropna() # drop rows that contains NaN's\n",
    "len(data)"
   ]
  },
  {
   "cell_type": "code",
   "execution_count": null,
   "metadata": {},
   "outputs": [],
   "source": [
    "'''\n",
    "    Define dataset(s) for DAY of REPORT \"dor\"\n",
    "'''\n",
    "data_dor = data.loc[:, ~data.columns.str.contains('adj')] # select only day of freport\n",
    "#data_dor = data_dor.loc[:, ~data_dor.columns.str.contains('run')] # drop \"CF_a...\" variables\n",
    "data_dor = data_dor.loc[:, ~data_dor.columns.str.contains('std')]\n",
    "#data_dor = data_dor.loc[:, ~data_dor.columns.str.contains('mean')]\n",
    "X = data_dor.drop(['ITEM_ID','DHW_class','SEVERITY_CODE', 'COUNTRY', 'DAY', 'MONTH','YEAR','JD','lat','lon','full_date'], axis=1) # dependent variables\n",
    "y = data_dor['SEVERITY_CODE'] # labels (indipendent variable)"
   ]
  },
  {
   "cell_type": "code",
   "execution_count": null,
   "metadata": {},
   "outputs": [],
   "source": [
    "X.columns"
   ]
  },
  {
   "cell_type": "code",
   "execution_count": null,
   "metadata": {},
   "outputs": [],
   "source": [
    "y = pd.DataFrame(y.values)"
   ]
  },
  {
   "cell_type": "code",
   "execution_count": null,
   "metadata": {},
   "outputs": [],
   "source": [
    "# Standardizing the features\n",
    "X = StandardScaler().fit_transform(X)"
   ]
  },
  {
   "cell_type": "code",
   "execution_count": null,
   "metadata": {
    "tags": []
   },
   "outputs": [],
   "source": [
    "pca = PCA(n_components=2)\n",
    "principalComponents = pca.fit_transform(X)\n",
    "principalDf = pd.DataFrame(data = principalComponents\n",
    "             , columns = ['principal component 1', 'principal component 2'])#,'principal component 3', 'principal component 4','principal component 5'])"
   ]
  },
  {
   "cell_type": "code",
   "execution_count": null,
   "metadata": {
    "tags": []
   },
   "outputs": [],
   "source": [
    "principalDf['SEVERITY_CODE'] = y\n",
    "finalDf = principalDf"
   ]
  },
  {
   "cell_type": "code",
   "execution_count": null,
   "metadata": {},
   "outputs": [],
   "source": [
    "fig = plt.figure(figsize = (5,5))\n",
    "ax = fig.add_subplot(1,1,1) \n",
    "ax.set_xlabel('Principal Component 1', fontsize = 15)\n",
    "ax.set_ylabel('Principal Component 2', fontsize = 15)\n",
    "ax.set_title('2 component PCA', fontsize = 20)\n",
    "\n",
    "targets = [0, 1, 2, 3]\n",
    "colors = ['r', 'b', 'c', 'g']\n",
    "for target, color in zip(targets,colors):\n",
    "    indicesToKeep = finalDf['SEVERITY_CODE'] == target\n",
    "    ax.scatter(finalDf.loc[indicesToKeep, 'principal component 1']\n",
    "               , finalDf.loc[indicesToKeep, 'principal component 2']\n",
    "               , c = color\n",
    "               , s = 0.25)\n",
    "ax.legend(targets)\n",
    "ax.grid()"
   ]
  },
  {
   "cell_type": "code",
   "execution_count": null,
   "metadata": {
    "tags": []
   },
   "outputs": [],
   "source": [
    "print(pca.explained_variance_ratio_)\n",
    "total_var = (pca.explained_variance_ratio_.sum()*100)\n",
    "print(total_var)"
   ]
  },
  {
   "cell_type": "code",
   "execution_count": null,
   "metadata": {},
   "outputs": [],
   "source": []
  },
  {
   "cell_type": "code",
   "execution_count": null,
   "metadata": {},
   "outputs": [],
   "source": []
  },
  {
   "cell_type": "code",
   "execution_count": null,
   "metadata": {},
   "outputs": [],
   "source": [
    "'''\n",
    "    Load full dataset\n",
    "'''\n",
    "data = pd.read_csv('CI.csv')\n",
    "len(data)"
   ]
  },
  {
   "cell_type": "code",
   "execution_count": null,
   "metadata": {},
   "outputs": [],
   "source": [
    "# plt.scatter(data['ID'], data['INDEX_eq'], s=data['SEVERITY_CODE'], c=data['SEVERITY_CODE'], alpha=0.5)\n",
    "# plt.show()"
   ]
  },
  {
   "cell_type": "code",
   "execution_count": null,
   "metadata": {},
   "outputs": [],
   "source": [
    "import seaborn as sns\n",
    "plt.figure(figsize=(12,8))\n",
    "#data = data[(data['SEVERITY_CODE']<2)]  \n",
    "sns.scatterplot(data=data, x=data['ID'], \n",
    "                y=data['INDEX_eq'], \n",
    "                #hue=data['SEVERITY_CODE'],\n",
    "                palette='Set1',\n",
    "                #style=\"Reported\",\n",
    "                # size=\"DHW_class\",\n",
    "                # sizes=(25, 50),\n",
    "                alpha=0.50)\n",
    "plt.show()"
   ]
  },
  {
   "cell_type": "code",
   "execution_count": null,
   "metadata": {},
   "outputs": [],
   "source": [
    "sns.relplot(\n",
    "    data=data, x=\"ID\", y=\"INDEX_eq\",\n",
    "    col=\"SEVERITY_CODE\", hue=\"SEVERITY_CODE\", palette=\"viridis\",\n",
    "    kind=\"scatter\", alpha=0.5\n",
    ")"
   ]
  }
 ],
 "metadata": {
  "language_info": {
   "codemirror_mode": {
    "name": "ipython",
    "version": 3
   },
   "file_extension": ".py",
   "mimetype": "text/x-python",
   "name": "python",
   "nbconvert_exporter": "python",
   "pygments_lexer": "ipython3",
   "version": "3.7.4-final"
  },
  "orig_nbformat": 2,
  "kernelspec": {
   "name": "python3",
   "display_name": "Python 3"
  }
 },
 "nbformat": 4,
 "nbformat_minor": 2
}