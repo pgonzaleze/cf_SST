{
 "cells": [
  {
   "cell_type": "markdown",
   "metadata": {},
   "source": [
    "# Machine learning algorithms for coral bleaching classification "
   ]
  },
  {
   "cell_type": "markdown",
   "metadata": {},
   "source": [
    "## Load dataset"
   ]
  },
  {
   "source": [
    "'''\n",
    "    Import libraries\n",
    "'''\n",
    "from sklearn import datasets\n",
    "import pandas as pd\n",
    "import numpy as np\n",
    "from numpy import mean\n",
    "from numpy import std\n",
    "import sklearn\n",
    "import seaborn as sb\n",
    "import matplotlib.pyplot as plt\n",
    "from numpy import mean \n",
    "from numpy import std\n",
    "from scipy import stats\n",
    "import scipy.stats as scipystats\n",
    "import statsmodels.api as sm\n",
    "import statsmodels.formula.api as smf\n",
    "from scipy.stats.stats import linregress\n",
    "from scipy.stats.stats import pearsonr\n",
    "# check scikit-learn version\n",
    "print(sklearn.__version__)"
   ],
   "cell_type": "code",
   "metadata": {
    "tags": []
   },
   "execution_count": 1,
   "outputs": [
    {
     "output_type": "stream",
     "name": "stdout",
     "text": [
      "0.22.2.post1\n"
     ]
    }
   ]
  },
  {
   "cell_type": "code",
   "execution_count": 2,
   "metadata": {},
   "outputs": [
    {
     "output_type": "execute_result",
     "data": {
      "text/plain": [
       "21003"
      ]
     },
     "metadata": {},
     "execution_count": 2
    }
   ],
   "source": [
    "'''\n",
    "    Load full dataset\n",
    "'''\n",
    "data = pd.read_csv('df_sst_clouds.csv')\n",
    "len(data)  "
   ]
  },
  {
   "cell_type": "code",
   "execution_count": 3,
   "metadata": {},
   "outputs": [
    {
     "output_type": "execute_result",
     "data": {
      "text/plain": [
       "20263"
      ]
     },
     "metadata": {},
     "execution_count": 3
    }
   ],
   "source": [
    "'''\n",
    "    Subset DF by SEVERITY_CODE [0,1,2,3]\n",
    "'''\n",
    "#data = data.dropna() # drop rows that contains NaN's \n",
    "data = data[(data.SEVERITY_CODE == 0)|(data.SEVERITY_CODE == 1)|(data.SEVERITY_CODE == 2)|(data.SEVERITY_CODE == 3)] \n",
    "#data = data[(data.YEAR >= 2005)] # First year with more than 100 records\n",
    "#list(data.columns)\n",
    "data = data.dropna() # drop rows that contains NaN's\n",
    "len(data)"
   ]
  },
  {
   "cell_type": "code",
   "execution_count": 7,
   "metadata": {},
   "outputs": [
    {
     "output_type": "execute_result",
     "data": {
      "text/plain": [
       "Index(['ITEM_ID', 'COUNTRY', 'lat', 'lon', 'SEVERITY_CODE', 'DHW_class', 'DAY',\n",
       "       'MONTH', 'YEAR', 'full_date', 'JD', 'SST', 'SST_adj_date',\n",
       "       'SSTrunmax30', 'SSTrunmax30_adj_date', 'SSTrunmean30',\n",
       "       'SSTrunmean30_adj_date', 'SSTrunmean7', 'SSTrunmean7_adj_date',\n",
       "       'SSTrunmax7', 'SSTrunmax7_adj_date', 'SSTrunmean90',\n",
       "       'SSTrunmean90_adj_date', 'SSTrunmax90', 'SSTrunmax90_adj_date', 'DHW',\n",
       "       'DHW_adj_date', 'DHWrunmean7', 'DHWrunmean7_adj_date', 'DHWrunmax7',\n",
       "       'DHWrunmax7_adj_date', 'DHWrunmean30', 'DHWrunmean30_adj_date',\n",
       "       'DHWrunmax30', 'DHWrunmax30_adj_date', 'DHWrunmean90',\n",
       "       'DHWrunmean90_adj_date', 'DHWrunmax90', 'DHWrunmax90_adj_date', 'DHW_9',\n",
       "       'DHW_9_adj_date', 'CF', 'CF_adj_date', 'CFrunmean30',\n",
       "       'CFrunmean30_adj_date', 'CFrunmean7', 'CFrunmean7_adj_date',\n",
       "       'CFrunmean90', 'CFrunmean90_adj_date', 'CF_monmean',\n",
       "       'CF_monmean_adj_date', 'CF_a', 'CF_a_adj_date', 'CF_a_runmean30',\n",
       "       'CF_a_runmean30_adj_date', 'CF_a_runmean7', 'CF_a_runmean7_adj_date',\n",
       "       'CF_a_runmean90', 'CF_a_runmean90_adj_date', 'WD', 'WD_adj_date', 'CD',\n",
       "       'CD_adj_date', 'SST_std30', 'SST_std30_adj_date', 'SST_std7',\n",
       "       'SST_std7_adj_date', 'SST_std90', 'SST_std90_adj_date', 'CV_run30',\n",
       "       'CV_run30_adj_date', 'CV_run7', 'CV_run7_adj_date', 'CV_run90',\n",
       "       'CV_run90_adj_date'],\n",
       "      dtype='object')"
      ]
     },
     "metadata": {},
     "execution_count": 7
    }
   ],
   "source": [
    "data.columns\n"
   ]
  },
  {
   "source": [
    "# Calculate a linear least-squares regression for two sets of measurements"
   ],
   "cell_type": "markdown",
   "metadata": {}
  },
  {
   "cell_type": "code",
   "execution_count": 5,
   "metadata": {
    "tags": []
   },
   "outputs": [
    {
     "output_type": "stream",
     "name": "stdout",
     "text": [
      "SEVERITY_CODE vs WD: LinregressResult(slope=12.15953209322459, intercept=7.7975052177288475, rvalue=0.39223935815290834, pvalue=0.0, stderr=0.20033576786692894)\n\nSEVERITY_CODE vs DHW: LinregressResult(slope=1.3235402529731053, intercept=0.3375873072556206, rvalue=0.5174390045937328, pvalue=0.0, stderr=0.015377271504354048)\n\nSEVERITY_CODE vs DHW_9: LinregressResult(slope=1.3272295295423502, intercept=1.029564380233199, rvalue=0.5427642388488548, pvalue=0.0, stderr=0.014428601822049726)\n"
     ]
    }
   ],
   "source": [
    "reglinSEVERITY_CODE_WD = linregress(data.SEVERITY_CODE, data.WD)\n",
    "print('SEVERITY_CODE vs WD:', reglinSEVERITY_CODE_WD)\n",
    "print('')\n",
    "reglinSEVERITY_CODE_DHW = linregress(data.SEVERITY_CODE, data.DHW)\n",
    "print('SEVERITY_CODE vs DHW:', reglinSEVERITY_CODE_DHW)\n",
    "print('')\n",
    "reglinSEVERITY_CODE_DHW_9 = linregress(data.SEVERITY_CODE, data.DHW_9)\n",
    "print('SEVERITY_CODE vs DHW_9:', reglinSEVERITY_CODE_DHW_9)\n"
   ]
  },
  {
   "cell_type": "code",
   "execution_count": 6,
   "metadata": {},
   "outputs": [
    {
     "output_type": "execute_result",
     "data": {
      "text/plain": [
       "0.26774312347495305"
      ]
     },
     "metadata": {},
     "execution_count": 6
    }
   ],
   "source": [
    "#To get coefficient of determination (R-squared) do rvalue**2:\n",
    "reglinSEVERITY_CODE_DHW.rvalue**2"
   ]
  },
  {
   "cell_type": "code",
   "execution_count": 36,
   "metadata": {},
   "outputs": [
    {
     "output_type": "execute_result",
     "data": {
      "text/plain": [
       "<class 'statsmodels.iolib.summary.Summary'>\n",
       "\"\"\"\n",
       "                            OLS Regression Results                            \n",
       "==============================================================================\n",
       "Dep. Variable:                    DHW   R-squared:                       0.268\n",
       "Model:                            OLS   Adj. R-squared:                  0.268\n",
       "Method:                 Least Squares   F-statistic:                     7408.\n",
       "Date:                Mon, 23 Nov 2020   Prob (F-statistic):               0.00\n",
       "Time:                        09:00:16   Log-Likelihood:                -46390.\n",
       "No. Observations:               20263   AIC:                         9.278e+04\n",
       "Df Residuals:                   20261   BIC:                         9.280e+04\n",
       "Df Model:                           1                                         \n",
       "Covariance Type:            nonrobust                                         \n",
       "=================================================================================\n",
       "                    coef    std err          t      P>|t|      [0.025      0.975]\n",
       "---------------------------------------------------------------------------------\n",
       "Intercept         0.3376      0.025     13.700      0.000       0.289       0.386\n",
       "SEVERITY_CODE     1.3235      0.015     86.071      0.000       1.293       1.354\n",
       "==============================================================================\n",
       "Omnibus:                     5563.249   Durbin-Watson:                   0.632\n",
       "Prob(Omnibus):                  0.000   Jarque-Bera (JB):            20879.238\n",
       "Skew:                           1.338   Prob(JB):                         0.00\n",
       "Kurtosis:                       7.191   Cond. No.                         2.93\n",
       "==============================================================================\n",
       "\n",
       "Warnings:\n",
       "[1] Standard Errors assume that the covariance matrix of the errors is correctly specified.\n",
       "\"\"\""
      ],
      "text/html": "<table class=\"simpletable\">\n<caption>OLS Regression Results</caption>\n<tr>\n  <th>Dep. Variable:</th>           <td>DHW</td>       <th>  R-squared:         </th> <td>   0.268</td> \n</tr>\n<tr>\n  <th>Model:</th>                   <td>OLS</td>       <th>  Adj. R-squared:    </th> <td>   0.268</td> \n</tr>\n<tr>\n  <th>Method:</th>             <td>Least Squares</td>  <th>  F-statistic:       </th> <td>   7408.</td> \n</tr>\n<tr>\n  <th>Date:</th>             <td>Mon, 23 Nov 2020</td> <th>  Prob (F-statistic):</th>  <td>  0.00</td>  \n</tr>\n<tr>\n  <th>Time:</th>                 <td>09:00:16</td>     <th>  Log-Likelihood:    </th> <td> -46390.</td> \n</tr>\n<tr>\n  <th>No. Observations:</th>      <td> 20263</td>      <th>  AIC:               </th> <td>9.278e+04</td>\n</tr>\n<tr>\n  <th>Df Residuals:</th>          <td> 20261</td>      <th>  BIC:               </th> <td>9.280e+04</td>\n</tr>\n<tr>\n  <th>Df Model:</th>              <td>     1</td>      <th>                     </th>     <td> </td>    \n</tr>\n<tr>\n  <th>Covariance Type:</th>      <td>nonrobust</td>    <th>                     </th>     <td> </td>    \n</tr>\n</table>\n<table class=\"simpletable\">\n<tr>\n        <td></td>           <th>coef</th>     <th>std err</th>      <th>t</th>      <th>P>|t|</th>  <th>[0.025</th>    <th>0.975]</th>  \n</tr>\n<tr>\n  <th>Intercept</th>     <td>    0.3376</td> <td>    0.025</td> <td>   13.700</td> <td> 0.000</td> <td>    0.289</td> <td>    0.386</td>\n</tr>\n<tr>\n  <th>SEVERITY_CODE</th> <td>    1.3235</td> <td>    0.015</td> <td>   86.071</td> <td> 0.000</td> <td>    1.293</td> <td>    1.354</td>\n</tr>\n</table>\n<table class=\"simpletable\">\n<tr>\n  <th>Omnibus:</th>       <td>5563.249</td> <th>  Durbin-Watson:     </th> <td>   0.632</td> \n</tr>\n<tr>\n  <th>Prob(Omnibus):</th>  <td> 0.000</td>  <th>  Jarque-Bera (JB):  </th> <td>20879.238</td>\n</tr>\n<tr>\n  <th>Skew:</th>           <td> 1.338</td>  <th>  Prob(JB):          </th> <td>    0.00</td> \n</tr>\n<tr>\n  <th>Kurtosis:</th>       <td> 7.191</td>  <th>  Cond. No.          </th> <td>    2.93</td> \n</tr>\n</table><br/><br/>Warnings:<br/>[1] Standard Errors assume that the covariance matrix of the errors is correctly specified."
     },
     "metadata": {},
     "execution_count": 36
    }
   ],
   "source": [
    "reg = smf.ols(formula = \"DHW ~ SEVERITY_CODE\", data = data).fit()\n",
    "reg.summary()"
   ]
  },
  {
   "cell_type": "code",
   "execution_count": 71,
   "metadata": {},
   "outputs": [
    {
     "output_type": "stream",
     "name": "stdout",
     "text": [
      "Intercept: \n 0.5986177316293095\nCoefficients: \n [0.22247007 0.05913042]\n                            OLS Regression Results                            \n==============================================================================\nDep. Variable:          SEVERITY_CODE   R-squared:                       0.295\nModel:                            OLS   Adj. R-squared:                  0.295\nMethod:                 Least Squares   F-statistic:                     4232.\nDate:                Mon, 23 Nov 2020   Prob (F-statistic):               0.00\nTime:                        12:56:46   Log-Likelihood:                -26980.\nNo. Observations:               20263   AIC:                         5.397e+04\nDf Residuals:                   20260   BIC:                         5.399e+04\nDf Model:                           2                                         \nCovariance Type:            nonrobust                                         \n==================================================================================\n                     coef    std err          t      P>|t|      [0.025      0.975]\n----------------------------------------------------------------------------------\nconst              0.5986      0.009     66.581      0.000       0.581       0.616\nDHW_9              0.2225      0.002     90.902      0.000       0.218       0.227\nCF_a_runmean90     0.0591      0.047      1.245      0.213      -0.034       0.152\n==============================================================================\nOmnibus:                      458.508   Durbin-Watson:                   0.820\nProb(Omnibus):                  0.000   Jarque-Bera (JB):              466.899\nSkew:                           0.351   Prob(JB):                    4.11e-102\nKurtosis:                       2.757   Cond. No.                         27.9\n==============================================================================\n\nWarnings:\n[1] Standard Errors assume that the covariance matrix of the errors is correctly specified.\n"
     ]
    }
   ],
   "source": [
    "from sklearn import linear_model\n",
    "X = data[['DHW_9','CF_a_runmean90']] \n",
    "y = data['SEVERITY_CODE']\n",
    "regr = linear_model.LinearRegression()\n",
    "regr.fit(X, y)\n",
    "print('Intercept: \\n', regr.intercept_)\n",
    "print('Coefficients: \\n', regr.coef_)\n",
    "# with statsmodels\n",
    "X = sm.add_constant(X) # adding a constant\n",
    " \n",
    "model = sm.OLS(y, X).fit()\n",
    "predictions = model.predict(X) \n",
    " \n",
    "print_model = model.summary()\n",
    "print(print_model)"
   ]
  },
  {
   "source": [
    "# Regplot"
   ],
   "cell_type": "markdown",
   "metadata": {}
  },
  {
   "cell_type": "code",
   "execution_count": null,
   "metadata": {},
   "outputs": [],
   "source": [
    "Cf_a_DHW = data[['CF_a_runmean90','DHW','SEVERITY_CODE']]\n",
    "scatter = sb.regplot(Cf_a_DHW.SEVERITY_CODE, Cf_a_DHW.DHW, marker='+',scatter_kws={'s':1}, line_kws={'lw':1, 'color':'darkred'}) \n",
    "#plt.savefig('regplotDHW_CF_a_90.pdf', dpi=300)"
   ]
  },
  {
   "source": [
    "# Pairplots"
   ],
   "cell_type": "markdown",
   "metadata": {}
  },
  {
   "cell_type": "code",
   "execution_count": null,
   "metadata": {},
   "outputs": [],
   "source": [
    " \n",
    "# Create individial series per variable and severity \n",
    "Cf_DHW = data[['CF_a_runmean90','DHW','SEVERITY_CODE']]\n",
    "pairgrid = sb.pairplot(Cf_DHW, hue='SEVERITY_CODE', palette=\"hls\", kind='reg', markers='.', corner=True, plot_kws={'scatter_kws':{'alpha': 0.5,'edgecolor': 'none'}},size = 10)\n",
    "plt.show()\n",
    "#plt.savefig('pairplotDHW_CF_a_90.pdf', dpi=300)"
   ]
  },
  {
   "cell_type": "code",
   "execution_count": null,
   "metadata": {},
   "outputs": [],
   "source": [
    "\n"
   ]
  }
 ],
 "metadata": {
  "language_info": {
   "codemirror_mode": {
    "name": "ipython",
    "version": 3
   },
   "file_extension": ".py",
   "mimetype": "text/x-python",
   "name": "python",
   "nbconvert_exporter": "python",
   "pygments_lexer": "ipython3",
   "version": "3.7.4-final"
  },
  "orig_nbformat": 2,
  "kernelspec": {
   "name": "python3",
   "display_name": "Python 3"
  }
 },
 "nbformat": 4,
 "nbformat_minor": 2
}