{
 "cells": [
  {
   "cell_type": "code",
   "execution_count": null,
   "metadata": {},
   "outputs": [],
   "source": [
    "from datetime import datetime\n",
    "from netCDF4 import Dataset as ds\n",
    "import numpy as np\n",
    "import dateutil as du \n",
    "import parser\n",
    "import pytz\n",
    "import dateutil.parser \n",
    "import pandas as pd\n",
    "from pandas import DataFrame\n",
    "import csv\n",
    "import glob, os\n",
    "from os.path import expanduser\n",
    "from pathlib import Path\n",
    "import xarray as xr "
   ]
  },
  {
   "cell_type": "code",
   "execution_count": null,
   "metadata": {},
   "outputs": [],
   "source": [
    "df = pd.read_csv('df_adjusted_date.csv')"
   ]
  },
  {
   "cell_type": "code",
   "execution_count": null,
   "metadata": {},
   "outputs": [],
   "source": [
    "# Change days to using adjusted date\n",
    "df['adjusted_date'] = df['adjusted_date'].apply(lambda x: datetime.strptime(x, \"%Y-%m-%d\"))\n",
    "df['DAY'] = df['adjusted_date'].dt.day\n",
    "df['MONTH'] = df['adjusted_date'].dt.month\n",
    "df['YEAR'] = df['adjusted_date'].dt.year"
   ]
  },
  {
   "cell_type": "code",
   "execution_count": null,
   "metadata": {},
   "outputs": [],
   "source": [
    "# insert '0' and convert to string\n",
    "df['DAY'] = df['DAY'].apply(lambda x: int(float(x)))\n",
    "df['DAY'] = df['DAY'].apply('{0:0>2}'.format)\n",
    "df['MONTH'] = df['MONTH'].apply(lambda x: int(float(x)))\n",
    "df['MONTH'] = df['MONTH'].apply('{0:0>2}'.format)"
   ]
  },
  {
   "cell_type": "code",
   "execution_count": null,
   "metadata": {},
   "outputs": [],
   "source": [
    "# Function to slice the filename with .nc extention, this will be used to open the files in directory\n",
    "def file_info(ncfilename):\n",
    "    with ds(ncfilename,'r') as ncdat:\n",
    "        #string = str(ncfilename)\n",
    "        #filename = string[-16:] \n",
    "        array = xr.open_dataset(ncfilename) # open_dataset works fine with either full path or filename.nc \n",
    "        return array  \n",
    "def array_sel(array):\n",
    "    dsloc = array.sel(lon=lon,lat=lat, method='nearest') \n",
    "    val_arr = dsloc['hotspot']\n",
    "    val_arr = val_arr.rolling(time=63).sum()\n",
    "    val_arr = val_arr.sel(time=time.strftime(\"%Y-%m-%d\")) # slice to a single given date\n",
    "    return val_arr "
   ]
  },
  {
   "cell_type": "code",
   "execution_count": null,
   "metadata": {},
   "outputs": [],
   "source": [
    "# Extract arrays per row and put them in a list\n",
    "home = Path(expanduser(\"~\"))\n",
    "x = []\n",
    "for row in df.itertuples():\n",
    "        lat = row.lat\n",
    "        lon = row.lon\n",
    "        time = row.full_date\n",
    "        path = home / Path(\"C:/Users/bmped/Documents/SST_HS/HS_1985-2018/HS_1985-2018_0.nc\") \n",
    "        array = file_info(path)\n",
    "        cf = array_sel(array)\n",
    "        x.append(cf)\n"
   ]
  },
  {
   "cell_type": "code",
   "execution_count": null,
   "metadata": {},
   "outputs": [],
   "source": [
    "# # create a list for sst values # create lists for coordinates (time) \n",
    "DHW_9 = [item.values for item in x]   # get array of values; analysed sst in this case\n",
    "df['DHW_9'] = DHW_9\n",
    "df.to_csv('DHW_9_adjusted_date.csv')"
   ]
  }
 ],
 "metadata": {
  "language_info": {
   "name": "python",
   "codemirror_mode": {
    "name": "ipython",
    "version": 3
   },
   "version": "3.7.6-final"
  },
  "orig_nbformat": 2,
  "file_extension": ".py",
  "mimetype": "text/x-python",
  "name": "python",
  "npconvert_exporter": "python",
  "pygments_lexer": "ipython3",
  "version": 3,
  "kernelspec": {
   "name": "python3",
   "display_name": "Python 3"
  }
 },
 "nbformat": 4,
 "nbformat_minor": 2
}