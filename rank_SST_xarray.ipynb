{
 "cells": [
  {
   "cell_type": "code",
   "execution_count": null,
   "metadata": {},
   "outputs": [],
   "source": [
    "from datetime import datetime\n",
    "from netCDF4 import Dataset as ds\n",
    "import numpy as np\n",
    "import dateutil as du \n",
    "import parser\n",
    "import pytz\n",
    "import dateutil.parser \n",
    "import pandas as pd\n",
    "from pandas import DataFrame\n",
    "import csv\n",
    "import glob, os\n",
    "from os.path import expanduser\n",
    "from pathlib import Path\n",
    "import xarray as xr "
   ]
  },
  {
   "cell_type": "code",
   "execution_count": null,
   "metadata": {},
   "outputs": [],
   "source": [
    "### Load .CSV and \n",
    "### subset bleaching events (conditional, e.g. exclude NaN)\n",
    "### Filter only CodeID, site names and country\" \n",
    "df = pd.read_csv('CBdbV2.csv',encoding='latin-1', low_memory=False)\n",
    "df = df[['RECORD_ID','COUNTRY','LATITUDE','LONGITUDE','SEVERITY_CODE','DATE','MONTH','YEAR']]\n",
    "df = pd.DataFrame(df)\n",
    "#### Convert index into column\n",
    "#df.reset_index(level=0, inplace=True)\n",
    "df['ITEM_ID'] = df.index.astype(str).str.zfill(7)   # add '0s' at the beginning of the number and convert as string \n",
    "df.rename(columns={'DATE':'DAY'}, inplace = True) #use \"implace = True\" to rename the existing DataFrame\n",
    "df = df[pd.to_numeric(df['DAY'], errors='coerce').notnull()]  # Drop rows that do not have as.numeric DATE (DAY)\n",
    "df['DAY'] = df['DAY'].apply('{0:0>2}'.format)\n",
    "df['MONTH'] = df['MONTH'].apply(lambda x: int(float(x)))\n",
    "df['MONTH'] = df['MONTH'].apply('{0:0>2}'.format)\n",
    "df['DAY_RANK'] = df['MONTH'].apply(lambda x: 15 if x == '02' else 16)\n",
    "df['full_date'] = df.apply(lambda x: '%s-%s-%s' % (x['YEAR'], int(float(x['MONTH'])), x['DAY']), axis=1) # create a column in datetime format; %s - String (or any object with a string representation, like numbers), %d - Integers %f - Floating point numbers\n",
    "df['full_date'] = df['full_date'].apply(lambda x: datetime.strptime(x, \"%Y-%m-%d\")) # use datetime funtion to convert string 'full_date' to datetime  \n",
    "df['rank_date'] = df.apply(lambda x: '%s-%s-%s' % (x['YEAR'], int(float(x['MONTH'])), x['DAY_RANK']), axis=1) # create a column in datetime format; %s - String (or any object with a string representation, like numbers), %d - Integers %f - Floating point numbers\n",
    "df['rank_date'] = df['rank_date'].apply(lambda x: datetime.strptime(x, \"%Y-%m-%d\")) # use datetime funtion to convert string 'full_date' to datetime \n",
    "df['JD'] = df['full_date'].apply(lambda x: x.timetuple().tm_yday)\n",
    "### Re-order by column starting by 'ID' and renaming LAT and LON\n",
    "df = df.reindex(columns=['ITEM_ID','RECORD_ID','COUNTRY','LATITUDE','LONGITUDE','SEVERITY_CODE','DAY','MONTH','YEAR','full_date','JD','rank_date'])\n",
    "df.rename(columns={'LATITUDE': 'lat', 'LONGITUDE': 'lon'}, inplace=True) # use \"implace = True\" to rename the existing DataFrame (rather than creating a copy)\n",
    "df = df.dropna(axis=0, how='any')  # Drop row with NaN if any\n",
    "df = df[~df.lat.str.contains(\"Missing\")]  # Drop rows with \"string\" values and not NaN\n",
    "df = df[~df.lon.str.contains(\"Missing\")]\n",
    "#df = df.loc[df['YEAR'] < 2017]"
   ]
  },
  {
   "cell_type": "code",
   "execution_count": null,
   "metadata": {},
   "outputs": [],
   "source": [
    "df['full_date'].iloc[0]\n",
    "df"
   ]
  },
  {
   "cell_type": "code",
   "execution_count": null,
   "metadata": {},
   "outputs": [],
   "source": [
    "# Function to slice the filename with .nc extention, this will be used to open the files in directory\n",
    "def file_info(ncfilename):\n",
    "    with ds(ncfilename,'r') as ncdat:\n",
    "        #string = str(ncfilename)\n",
    "        #filename = string[-16:] \n",
    "        array = xr.open_dataset(ncfilename) # open_dataset works fine with either full path or filename.nc \n",
    "        return array  \n",
    "def array_sel(array):\n",
    "    dsloc = array.sel(lon=lon,lat=lat,method='nearest') \n",
    "    val_arr = dsloc['analysed_sst']\n",
    "    return val_arr "
   ]
  },
  {
   "cell_type": "code",
   "execution_count": null,
   "metadata": {},
   "outputs": [],
   "source": [
    "# Extract arrays per row and put them in a list\n",
    "home = Path(expanduser(\"~\"))\n",
    "x = []\n",
    "for row in df.itertuples():\n",
    "        lat = row.lat\n",
    "        lon = row.lon\n",
    "        time = row.rank_date\n",
    "        path = home / Path(\"E:/PGonzalez/SST_CRW/coraltemp_monthly/sst_monmean\" + str(row.YEAR) + \".nc\") \n",
    "        array = file_info(path)\n",
    "        cf = array_sel(array)\n",
    "        ranking = cf.rank('time')\n",
    "        rank_max = max(ranking)\n",
    "        rank_month = ranking.sel(time=time.strftime(\"%Y-%m-%d\")) # ranking from coldest to warmest\n",
    "        x.append(rank_month)"
   ]
  },
  {
   "cell_type": "code",
   "execution_count": null,
   "metadata": {},
   "outputs": [],
   "source": [
    "rank_value = [item[0].values for item in x] \n",
    "df_rank = pd.DataFrame(rank_value, columns = ['rank_cold_to_warm'])\n",
    "df_rank"
   ]
  },
  {
   "cell_type": "code",
   "execution_count": null,
   "metadata": {},
   "outputs": [],
   "source": [
    "def asc(item):\n",
    "    'This function reverse the ranking to warmest = 1 to coldest = 12'\n",
    "    if item == str(1.0):\n",
    "        return '12'\n",
    "    elif item == str(2.0):\n",
    "        return '11'  \n",
    "    elif item == str(3.0):\n",
    "        return '10'\n",
    "    elif item == str(4.0):\n",
    "        return '9'  \n",
    "    elif item == str(5.0):\n",
    "        return '8'  \n",
    "    elif item == str(6.0):\n",
    "        return '7'  \n",
    "    elif item == str(7.0):\n",
    "        return '6'  \n",
    "    elif item == str(8.0):\n",
    "        return '5'  \n",
    "    elif item == str(9.0):\n",
    "        return '4'  \n",
    "    elif item == str(10.0):\n",
    "        return '3'  \n",
    "    elif item == str(11.0):\n",
    "        return '2'  \n",
    "    elif item == str(12.0):\n",
    "        return '1'  "
   ]
  },
  {
   "cell_type": "code",
   "execution_count": null,
   "metadata": {},
   "outputs": [],
   "source": [
    "warm = []\n",
    "for row in df_rank.itertuples():\n",
    "    rank = row.rank_cold_to_warm\n",
    "    s = asc(str(rank))\n",
    "    warm.append(s)\n",
    "df_warm = pd.DataFrame(warm, columns=['rank_warm_to_cold'])\n",
    "df_warm_rank = pd.concat([df_rank, df_warm], axis=1)\n",
    "df_warm_rank"
   ]
  },
  {
   "cell_type": "code",
   "execution_count": null,
   "metadata": {},
   "outputs": [],
   "source": []
  },
  {
   "cell_type": "code",
   "execution_count": null,
   "metadata": {},
   "outputs": [],
   "source": [
    "# # Create a list of arrays\n",
    "# z = []\n",
    "# rmonth = []\n",
    "# rmax = []\n",
    "# for item in x: \n",
    "#     value = item.sel()\n",
    "#     val = max(value)\n",
    "#     rank = value.rank('time')\n",
    "#     rank_max = max(rank)\n",
    "#     rank_month = rank.sel(time=time.strftime(\"%Y-%m-%d\"))\n",
    "#     z.append(val)\n",
    "#     rmonth.append(rank_month)\n",
    "#     rmax.append(rank_max)   "
   ]
  },
  {
   "cell_type": "code",
   "execution_count": null,
   "metadata": {},
   "outputs": [],
   "source": [
    "# # create a list for sst values # create lists for coordinates (time) \n",
    "# sst = [item[0].values for item in z]   # get array of values; analysed sst in this case\n",
    "# rm = [item[0].values for item in rmonth]  # get the rank of the month according to the warmest month of the climatology\n",
    "# rmx = [item[0].values for item in rmax] # get the warmest month of the climatology \n",
    "\n",
    "# coor = [item[0].coords['time'] for item in z]    # get array of values of coordinate 'time' for analysed sst"
   ]
  },
  {
   "cell_type": "code",
   "execution_count": null,
   "metadata": {},
   "outputs": [],
   "source": [
    "# # create lists of values (actual time) of coordinates  \n",
    "# coor_list = []\n",
    "# rm_list = []\n",
    "# rmx_list = []\n",
    "# for item in coor: \n",
    "#     cor_val = item.values\n",
    "#     coor_list.append(cor_val)\n",
    "# # for item in rm: \n",
    "# #     rm_val = item.values\n",
    "# #     rm_list.append(rm_val)\n",
    "# # for item in rmx: \n",
    "# #     rmx_val = item.values\n",
    "# #     rmx_list.append(rmx_val)    "
   ]
  },
  {
   "cell_type": "code",
   "execution_count": null,
   "metadata": {},
   "outputs": [],
   "source": [
    "# df_sst = pd.DataFrame(sst, columns = ['MMMmax_SST']) \n",
    "# df_coor = pd.DataFrame(coor_list, columns=['Date'])\n",
    "# df_rm = pd.DataFrame(rm, columns=['rank_month_date'])\n",
    "# df_rmx = pd.DataFrame(rmx, columns=['warmest_month'])\n",
    "# df_rank = pd.concat([df_sst, df_coor, df_rm, df_rmx ], axis=1)\n",
    "# #df.to_csv('df_MMMmax_date.csv', index=False)"
   ]
  }
 ],
 "metadata": {
  "language_info": {
   "name": "python",
   "codemirror_mode": {
    "name": "ipython",
    "version": 3
   },
   "version": "3.7.6-final"
  },
  "orig_nbformat": 2,
  "file_extension": ".py",
  "mimetype": "text/x-python",
  "name": "python",
  "npconvert_exporter": "python",
  "pygments_lexer": "ipython3",
  "version": 3,
  "kernelspec": {
   "name": "python3",
   "display_name": "Python 3"
  }
 },
 "nbformat": 4,
 "nbformat_minor": 2
}