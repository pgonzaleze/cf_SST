{
 "cells": [
  {
   "source": [
    "## This notebook computes the degree heating weeks index in a 9 weeks moving window"
   ],
   "cell_type": "markdown",
   "metadata": {}
  },
  {
   "cell_type": "code",
   "execution_count": null,
   "metadata": {},
   "outputs": [],
   "source": [
    "from datetime import datetime\n",
    "from netCDF4 import Dataset as ds\n",
    "import numpy as np\n",
    "import dateutil as du \n",
    "import parser\n",
    "import pytz\n",
    "import dateutil.parser \n",
    "import pandas as pd\n",
    "from pandas import DataFrame\n",
    "import csv\n",
    "import glob, os\n",
    "from os.path import expanduser\n",
    "from pathlib import Path\n",
    "import xarray as xr "
   ]
  },
  {
   "cell_type": "code",
   "execution_count": null,
   "metadata": {},
   "outputs": [],
   "source": [
    "### Load .CSV and \n",
    "### subset bleaching events (conditional, e.g. exclude NaN)\n",
    "### Filter only CodeID, site names and country\" \n",
    "df = pd.read_csv('CBdbV2.csv',encoding='latin-1', low_memory=False)\n",
    "df = df[['RECORD_ID','COUNTRY','LAT_corrected','LON_corrected','SEVERITY_CODE','DATE','MONTH','YEAR']]\n",
    "df = pd.DataFrame(df)\n",
    "#### Convert index into column\n",
    "#df.reset_index(level=0, inplace=True)\n",
    "df['ITEM_ID'] = df.index.astype(str).str.zfill(7)   # add '0s' at the beginning of the number and convert as string \n",
    "df.rename(columns={'DATE':'DAY'}, inplace = True) #use \"implace = True\" to rename the existing DataFrame\n",
    "df = df[pd.to_numeric(df['DAY'], errors='coerce').notnull()]  # Drop rows that do not have as.numeric DATE (DAY)\n",
    "df['DAY'] = df['DAY'].apply(lambda x: int(float(x)))\n",
    "df['DAY'] = df['DAY'].apply('{0:0>2}'.format)\n",
    "df['MONTH'] = df['MONTH'].apply(lambda x: int(float(x)))\n",
    "df['MONTH'] = df['MONTH'].apply('{0:0>2}'.format)\n",
    "df['full_date'] = df.apply(lambda x: '%s-%s-%s' % (x['YEAR'], int(float(x['MONTH'])), x['DAY']), axis=1) # create a column in datetime format; %s - String (or any object with a string representation, like numbers), %d - Integers %f - Floating point numbers\n",
    "df['full_date'] = df['full_date'].apply(lambda x: datetime.strptime(x, \"%Y-%m-%d\")) # use datetime funtion to convert string 'full_date' to datetime  \n",
    "df['JD'] = df['full_date'].apply(lambda x: x.timetuple().tm_yday)\n",
    "### Re-order by column starting by 'ID' and renaming LAT and LON\n",
    "df = df.reindex(columns=['ITEM_ID','COUNTRY','LAT_corrected','LON_corrected','SEVERITY_CODE','DAY','MONTH','YEAR','full_date','JD'])\n",
    "df.rename(columns={'LAT_corrected': 'lat', 'LON_corrected': 'lon'}, inplace=True) # use \"implace = True\" to rename the existing DataFrame (rather than creating a copy)\n",
    "df = df.dropna(axis=0, how='any')  # Drop row with NaN if any"
   ]
  },
  {
   "cell_type": "code",
   "execution_count": null,
   "metadata": {},
   "outputs": [],
   "source": [
    "# Functions \n",
    "def file_info(ncfilename):\n",
    "    '''\n",
    "    This functions opens the ncfile and extract the values in as an array \n",
    "    '''\n",
    "    with ds(ncfilename,'r') as ncdat:\n",
    "        array = xr.open_dataset(ncfilename) # open_dataset works fine with either full path or \"filename.nc\" \n",
    "        return array  \n",
    "def array_sel(array):\n",
    "    '''\n",
    "    this function sum the positive values from the previous 63 days/9 weeks   \n",
    "    '''\n",
    "    dsloc = array.sel(lon=lon,lat=lat, method='nearest') \n",
    "    val_arr = dsloc['hotspot']\n",
    "    val_arr = val_arr.rolling(time=63).sum()\n",
    "    val_arr = val_arr.sel(time=time.strftime(\"%Y-%m-%d\")) # slice to a single given date\n",
    "    return val_arr "
   ]
  },
  {
   "cell_type": "code",
   "execution_count": null,
   "metadata": {},
   "outputs": [],
   "source": [
    "# Extract arrays per row and put them in a list\n",
    "home = Path(expanduser(\"~\"))\n",
    "x = []\n",
    "for row in df.itertuples():\n",
    "        lat = row.lat\n",
    "        lon = row.lon\n",
    "        time = row.full_date\n",
    "        path = home / Path(\"your path and document.nc\") # here we use the \"HotSpot's file\"\n",
    "        array = file_info(path)\n",
    "        cf = array_sel(array)\n",
    "        x.append(cf)"
   ]
  },
  {
   "cell_type": "code",
   "execution_count": null,
   "metadata": {},
   "outputs": [],
   "source": [
    "# # create a list for sst values # create lists for coordinates (time) \n",
    "DHW_9 = [item[0].values for item in x]   # get array of values; analysed sst in this case\n",
    "df['DHW_9'] = DHW_9\n",
    "df.to_csv('DHW_9_per_report.csv')"
   ]
  }
 ],
 "metadata": {
  "language_info": {
   "name": "python",
   "codemirror_mode": {
    "name": "ipython",
    "version": 3
   },
   "version": "3.7.6-final"
  },
  "orig_nbformat": 2,
  "file_extension": ".py",
  "mimetype": "text/x-python",
  "name": "python",
  "npconvert_exporter": "python",
  "pygments_lexer": "ipython3",
  "version": 3,
  "kernelspec": {
   "name": "python3",
   "display_name": "Python 3"
  }
 },
 "nbformat": 4,
 "nbformat_minor": 2
}