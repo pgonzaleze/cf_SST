{
 "cells": [
  {
   "cell_type": "code",
   "execution_count": 1,
   "metadata": {},
   "outputs": [],
   "source": [
    "from datetime import datetime\n",
    "from netCDF4 import Dataset as ds\n",
    "import numpy as np\n",
    "import dateutil as du \n",
    "import parser\n",
    "import pytz\n",
    "import dateutil.parser \n",
    "import pandas as pd\n",
    "from pandas import DataFrame\n",
    "import csv\n",
    "import glob, os\n",
    "from os.path import expanduser\n",
    "from pathlib import Path\n",
    "import xarray as xr \n",
    "import datetime as dt"
   ]
  },
  {
   "cell_type": "code",
   "execution_count": 3,
   "metadata": {},
   "outputs": [],
   "source": [
    "### Load .CSV and \n",
    "### subset bleaching events (conditional, e.g. exclude NaN)\n",
    "### Filter only CodeID, site names and country\" \n",
    "df = pd.read_csv('CBdbV2.csv',encoding='latin-1', low_memory=False)\n",
    "df = df[['RECORD_ID','COUNTRY','LAT_corrected','LON_corrected','SEVERITY_CODE','DATE','MONTH','YEAR']]\n",
    "df = pd.DataFrame(df)\n",
    "#### Convert index into column\n",
    "#df.reset_index(level=0, inplace=True)\n",
    "df['ITEM_ID'] = df.index.astype(str).str.zfill(7)   # add '0s' at the beginning of the number and convert as string \n",
    "df.rename(columns={'DATE':'DAY'}, inplace = True) #use \"implace = True\" to rename the existing DataFrame\n",
    "df = df[pd.to_numeric(df['DAY'], errors='coerce').notnull()]  # Drop rows that do not have as.numeric DATE (DAY)\n",
    "df['DAY'] = df['DAY'].apply(lambda x: int(float(x)))\n",
    "df['DAY'] = df['DAY'].apply('{0:0>2}'.format)\n",
    "df['MONTH'] = df['MONTH'].apply(lambda x: int(float(x)))\n",
    "df['MONTH'] = df['MONTH'].apply('{0:0>2}'.format)\n",
    "df['full_date'] = df.apply(lambda x: '%s-%s-%s' % (x['YEAR'], int(float(x['MONTH'])), x['DAY']), axis=1) # create a column in datetime format; %s - String (or any object with a string representation, like numbers), %d - Integers %f - Floating point numbers\n",
    "df['full_date'] = df['full_date'].apply(lambda x: datetime.strptime(x, \"%Y-%m-%d\")) # use datetime funtion to convert string 'full_date' to datetime  \n",
    "df['JD'] = df['full_date'].apply(lambda x: x.timetuple().tm_yday)\n",
    "### Re-order by column starting by 'ID' and renaming LAT and LON\n",
    "df = df.reindex(columns=['ITEM_ID','COUNTRY','LAT_corrected','LON_corrected','SEVERITY_CODE','DAY','MONTH','YEAR','full_date','JD'])\n",
    "df.rename(columns={'LAT_corrected': 'lat', 'LON_corrected': 'lon'}, inplace=True) # use \"implace = True\" to rename the existing DataFrame (rather than creating a copy)\n",
    "df = df.dropna(axis=0, how='any')  # Drop row with NaN if any\n"
   ]
  },
  {
   "cell_type": "code",
   "execution_count": 4,
   "metadata": {},
   "outputs": [],
   "source": [
    "# Function to slice the filename with .nc extention, this will be used to open the files in directory\n",
    "def file_info(ncfilename):\n",
    "    with ds(ncfilename,'r') as ncdat:\n",
    "        array = xr.open_dataset(ncfilename) \n",
    "        return array  \n",
    "def array_sel(array):\n",
    "    dsloc = array.sel(lon=lon,lat=lat,time=time,method='nearest') \n",
    "    cloud_fraction = dsloc['analysed_sst']\n",
    "    return cloud_fraction "
   ]
  },
  {
   "cell_type": "code",
   "execution_count": 5,
   "metadata": {},
   "outputs": [],
   "source": [
    "home = Path(expanduser(\"~\"))\n",
    "x = []\n",
    "for row in df.itertuples():\n",
    "        lat = row.lat,\n",
    "        lon = row.lon\n",
    "        time = row.full_date\n",
    "        path = home / Path(\".../sst_crw_runmean30.nc\")\n",
    "        array = file_info(path)\n",
    "        cf = array_sel(array)\n",
    "        x.append(cf)\n",
    "sst = [item[0].values for item in x]\n",
    "df['SST'] = sst\n",
    "df.to_csv('SST_runmean30_dateofreport.csv')"
   ]
  },
  {
   "cell_type": "code",
   "execution_count": null,
   "metadata": {},
   "outputs": [],
   "source": [
    "df.close()"
   ]
  }
 ],
 "metadata": {
  "language_info": {
   "codemirror_mode": {
    "name": "ipython",
    "version": 3
   },
   "file_extension": ".py",
   "mimetype": "text/x-python",
   "name": "python",
   "nbconvert_exporter": "python",
   "pygments_lexer": "ipython3",
   "version": 3
  },
  "orig_nbformat": 2,
  "kernelspec": {
   "name": "python_defaultSpec_1595385718291",
   "display_name": "Python 3.7.4 64-bit ('base': conda)"
  }
 },
 "nbformat": 4,
 "nbformat_minor": 2
}