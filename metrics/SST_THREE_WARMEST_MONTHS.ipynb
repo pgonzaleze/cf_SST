{
 "cells": [
  {
   "cell_type": "code",
   "execution_count": 1,
   "metadata": {},
   "outputs": [],
   "source": [
    "from netCDF4 import Dataset as ds\n",
    "import numpy as np\n",
    "from e582utils.data_read import download\n",
    "import datetime\n",
    "import dateutil as du \n",
    "import parser\n",
    "import pytz\n",
    "import dateutil.parser \n",
    "import pandas as pd"
   ]
  },
  {
   "cell_type": "code",
   "execution_count": null,
   "metadata": {},
   "outputs": [],
   "source": [
    "# Function to slice the filename with .nc extention, this will be used to open the files in directory\n",
    "def file_info(ncfilename):\n",
    "    with ds(ncfilename,'r') as ncdat:\n",
    "        array = xr.open_dataset(ncfilename) # open_dataset works fine with either full path or filename.nc \n",
    "        return array  \n",
    "def array_sel(array):\n",
    "    dsloc = array.sel(lon=lon,lat=lat,method='nearest') \n",
    "    val_arr = dsloc['analysed_sst']\n",
    "    return val_arr "
   ]
  },
  {
   "cell_type": "markdown",
   "metadata": {},
   "source": [
    "# Functions"
   ]
  },
  {
   "cell_type": "code",
   "execution_count": 8,
   "metadata": {},
   "outputs": [],
   "source": [
    "# This function would provide the array of par, lat and lon of the file, with this data \n",
    "# I am going to get \"the_par\" \n",
    "def sst_lat_lon(infile): \n",
    "    with ds(infile,'r') as ncfile:\n",
    "        ncfile.set_auto_mask(False)\n",
    "        sst=ncfile.variables['analysed_sst'][...]\n",
    "        lat=ncfile.variables['lat'][...]\n",
    "        lon=ncfile.variables['lon'][...]\n",
    "        fill_value=ncfile.variables['analysed_sst']._FillValue\n",
    "        hit = sst == fill_value\n",
    "        sst[hit] = np.nan \n",
    "        #sat=getattr(ncfile,'platform')\n",
    "    return sst,lat,lon #,sat   "
   ]
  },
  {
   "cell_type": "markdown",
   "metadata": {},
   "source": [
    "# Global function "
   ]
  },
  {
   "cell_type": "code",
   "execution_count": 11,
   "metadata": {},
   "outputs": [],
   "source": [
    "import glob, os\n",
    "from os.path import expanduser\n",
    "from pathlib import Path\n",
    "home = Path(expanduser(\"~\"))\n",
    "datapath = home / Path ('E:/NetCDF/SST_CRW') #('C:/Users/bmped/Documents/UBC/Classes/EOSC_582/project/SST')#()\n",
    "all_files=list(datapath.glob('*nc')) #Return a list of path names that match pathname, in this case all the .nc´s\n",
    "data_list=[]\n",
    "for infile in all_files:\n",
    "    file_info=file_info(infile)# this line should gave this: datetime.datetime(2017, 3, 12, 0, 0, tzinfo=<UTC>)\n",
    "    sst,lat,lon=sst_lat_lon(infile) # this would provide the array of \"lat-lon\" that are going to be used to get the_par values of each site \n",
    "#     for site_name,site_dict in sites_short.items(): \n",
    "#         date_dict=date_info(the_date)# this would give the year: 2017 e.g.\n",
    "# #         print(site_name)\n",
    "#         site_lat,site_lon=site_dict['lat'],site_dict['lon']\n",
    "#         lat_idx = np.abs(lat-site_lat).argmin()\n",
    "#         lon_idx = np.abs(lon-site_lon).argmin()\n",
    "#         # type(sst) \n",
    "#         sst=sst.squeeze() # Here we used \".squeeze\" to tackle the multilevel issue. In this case we have 4 levels. \n",
    "#         # sst.shape   # This is to check if we are in the correct level. \n",
    "#         the_sst = sst[lat_idx,lon_idx]      \n",
    "#         date_dict['analysed_sst']=the_sst\n",
    "#         date_dict['site_name']=site_name\n",
    "#         #date_dict['sat']=sat\n",
    "#         #print(site_name,the_par)\n",
    "#         data_list.append(date_dict)\n",
    "                     \n"
   ]
  },
  {
   "cell_type": "code",
   "execution_count": 1,
   "metadata": {},
   "outputs": [],
   "source": [
    "# df=pd.DataFrame.from_records(data_list)\n",
    "# df.columns\n",
    "# # sst_vals=df['analysed_sst'].values\n",
    "# # hit=sst_vals < 0\n",
    "# # sst_vals[hit]=np.nan\n",
    "# # df['sst']=sst_vals\n",
    "# df\n"
   ]
  },
  {
   "cell_type": "code",
   "execution_count": 13,
   "metadata": {},
   "outputs": [],
   "source": [
    "# BREAK\n",
    "with pd.HDFStore('df_SST_CRW.h5','w') as outfile:  # Storage the dataframe \n",
    "    outfile.put('df_SST_CRW',df,format = 'table')"
   ]
  }
 ],
 "metadata": {
  "anaconda-cloud": {},
  "hide_input": false,
  "kernelspec": {
   "display_name": "Python 3",
   "language": "python",
   "name": "python3"
  },
  "language_info": {
   "codemirror_mode": {
    "name": "ipython",
    "version": 3
   },
   "file_extension": ".py",
   "mimetype": "text/x-python",
   "name": "python",
   "nbconvert_exporter": "python",
   "pygments_lexer": "ipython3",
   "version": "3.7.6-final"
  }
 },
 "nbformat": 4,
 "nbformat_minor": 2
}